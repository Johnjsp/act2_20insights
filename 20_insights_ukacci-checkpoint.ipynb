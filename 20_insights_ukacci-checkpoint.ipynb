{
 "cells": [
  {
   "cell_type": "markdown",
   "id": "e7658533-dcd9-498e-9e10-f0712a381757",
   "metadata": {},
   "source": [
    "<h2>Importing Necessary Libraries</h2>"
   ]
  },
  {
   "cell_type": "code",
   "execution_count": 2,
   "id": "08363bff-2980-48ec-b99d-6642d34f1611",
   "metadata": {},
   "outputs": [],
   "source": [
    "import numpy as np\n",
    "import pandas as pd\n",
    "import matplotlib.pyplot as plt\n",
    "\n"
   ]
  },
  {
   "cell_type": "markdown",
   "id": "c39e9deb-d3f9-4af9-8955-490647ddf6f4",
   "metadata": {},
   "source": [
    "<h2>Converting data set to data frame</h2>"
   ]
  },
  {
   "cell_type": "code",
   "execution_count": 3,
   "id": "2014c829-30ed-40a8-b690-dd53606d328b",
   "metadata": {},
   "outputs": [],
   "source": [
    "acci = pd.read_csv(\"C:\\\\Users\\\\LAB4-StudentPC39\\\\Desktop\\\\ELEC03_DELACRUZ\\\\accident_data.csv\")"
   ]
  },
  {
   "cell_type": "code",
   "execution_count": 4,
   "id": "2b06a2f0-a2ca-4256-b0be-44c8b957f923",
   "metadata": {},
   "outputs": [
    {
     "data": {
      "text/html": [
       "<div>\n",
       "<style scoped>\n",
       "    .dataframe tbody tr th:only-of-type {\n",
       "        vertical-align: middle;\n",
       "    }\n",
       "\n",
       "    .dataframe tbody tr th {\n",
       "        vertical-align: top;\n",
       "    }\n",
       "\n",
       "    .dataframe thead th {\n",
       "        text-align: right;\n",
       "    }\n",
       "</style>\n",
       "<table border=\"1\" class=\"dataframe\">\n",
       "  <thead>\n",
       "    <tr style=\"text-align: right;\">\n",
       "      <th></th>\n",
       "      <th>Index</th>\n",
       "      <th>Accident_Severity</th>\n",
       "      <th>Accident Date</th>\n",
       "      <th>Latitude</th>\n",
       "      <th>Light_Conditions</th>\n",
       "      <th>District Area</th>\n",
       "      <th>Longitude</th>\n",
       "      <th>Number_of_Casualties</th>\n",
       "      <th>Number_of_Vehicles</th>\n",
       "      <th>Road_Surface_Conditions</th>\n",
       "      <th>Road_Type</th>\n",
       "      <th>Urban_or_Rural_Area</th>\n",
       "      <th>Weather_Conditions</th>\n",
       "      <th>Vehicle_Type</th>\n",
       "    </tr>\n",
       "  </thead>\n",
       "  <tbody>\n",
       "    <tr>\n",
       "      <th>0</th>\n",
       "      <td>200701BS64157</td>\n",
       "      <td>Serious</td>\n",
       "      <td>5/6/2019</td>\n",
       "      <td>51.506187</td>\n",
       "      <td>Darkness - lights lit</td>\n",
       "      <td>Kensington and Chelsea</td>\n",
       "      <td>-0.209082</td>\n",
       "      <td>1</td>\n",
       "      <td>2</td>\n",
       "      <td>Dry</td>\n",
       "      <td>Single carriageway</td>\n",
       "      <td>Urban</td>\n",
       "      <td>Fine no high winds</td>\n",
       "      <td>Car</td>\n",
       "    </tr>\n",
       "    <tr>\n",
       "      <th>1</th>\n",
       "      <td>200701BS65737</td>\n",
       "      <td>Serious</td>\n",
       "      <td>2/7/2019</td>\n",
       "      <td>51.495029</td>\n",
       "      <td>Daylight</td>\n",
       "      <td>Kensington and Chelsea</td>\n",
       "      <td>-0.173647</td>\n",
       "      <td>1</td>\n",
       "      <td>2</td>\n",
       "      <td>Wet or damp</td>\n",
       "      <td>Single carriageway</td>\n",
       "      <td>Urban</td>\n",
       "      <td>Raining no high winds</td>\n",
       "      <td>Car</td>\n",
       "    </tr>\n",
       "    <tr>\n",
       "      <th>2</th>\n",
       "      <td>200701BS66127</td>\n",
       "      <td>Serious</td>\n",
       "      <td>26-08-2019</td>\n",
       "      <td>51.517715</td>\n",
       "      <td>Darkness - lighting unknown</td>\n",
       "      <td>Kensington and Chelsea</td>\n",
       "      <td>-0.210215</td>\n",
       "      <td>1</td>\n",
       "      <td>3</td>\n",
       "      <td>Dry</td>\n",
       "      <td>NaN</td>\n",
       "      <td>Urban</td>\n",
       "      <td>NaN</td>\n",
       "      <td>Taxi/Private hire car</td>\n",
       "    </tr>\n",
       "    <tr>\n",
       "      <th>3</th>\n",
       "      <td>200701BS66128</td>\n",
       "      <td>Serious</td>\n",
       "      <td>16-08-2019</td>\n",
       "      <td>51.495478</td>\n",
       "      <td>Daylight</td>\n",
       "      <td>Kensington and Chelsea</td>\n",
       "      <td>-0.202731</td>\n",
       "      <td>1</td>\n",
       "      <td>4</td>\n",
       "      <td>Dry</td>\n",
       "      <td>Single carriageway</td>\n",
       "      <td>Urban</td>\n",
       "      <td>Fine no high winds</td>\n",
       "      <td>Bus or coach (17 or more pass seats)</td>\n",
       "    </tr>\n",
       "    <tr>\n",
       "      <th>4</th>\n",
       "      <td>200701BS66837</td>\n",
       "      <td>Slight</td>\n",
       "      <td>3/9/2019</td>\n",
       "      <td>51.488576</td>\n",
       "      <td>Darkness - lights lit</td>\n",
       "      <td>Kensington and Chelsea</td>\n",
       "      <td>-0.192487</td>\n",
       "      <td>1</td>\n",
       "      <td>2</td>\n",
       "      <td>Dry</td>\n",
       "      <td>NaN</td>\n",
       "      <td>Urban</td>\n",
       "      <td>NaN</td>\n",
       "      <td>Other vehicle</td>\n",
       "    </tr>\n",
       "    <tr>\n",
       "      <th>...</th>\n",
       "      <td>...</td>\n",
       "      <td>...</td>\n",
       "      <td>...</td>\n",
       "      <td>...</td>\n",
       "      <td>...</td>\n",
       "      <td>...</td>\n",
       "      <td>...</td>\n",
       "      <td>...</td>\n",
       "      <td>...</td>\n",
       "      <td>...</td>\n",
       "      <td>...</td>\n",
       "      <td>...</td>\n",
       "      <td>...</td>\n",
       "      <td>...</td>\n",
       "    </tr>\n",
       "    <tr>\n",
       "      <th>660674</th>\n",
       "      <td>201091NM01760</td>\n",
       "      <td>Slight</td>\n",
       "      <td>18-02-2022</td>\n",
       "      <td>57.374005</td>\n",
       "      <td>Daylight</td>\n",
       "      <td>Highland</td>\n",
       "      <td>-3.467828</td>\n",
       "      <td>2</td>\n",
       "      <td>1</td>\n",
       "      <td>Dry</td>\n",
       "      <td>Single carriageway</td>\n",
       "      <td>Rural</td>\n",
       "      <td>Fine no high winds</td>\n",
       "      <td>Car</td>\n",
       "    </tr>\n",
       "    <tr>\n",
       "      <th>660675</th>\n",
       "      <td>201091NM01881</td>\n",
       "      <td>Slight</td>\n",
       "      <td>21-02-2022</td>\n",
       "      <td>57.232273</td>\n",
       "      <td>Darkness - no lighting</td>\n",
       "      <td>Highland</td>\n",
       "      <td>-3.809281</td>\n",
       "      <td>1</td>\n",
       "      <td>1</td>\n",
       "      <td>Frost or ice</td>\n",
       "      <td>Single carriageway</td>\n",
       "      <td>Rural</td>\n",
       "      <td>Fine no high winds</td>\n",
       "      <td>Car</td>\n",
       "    </tr>\n",
       "    <tr>\n",
       "      <th>660676</th>\n",
       "      <td>201091NM01935</td>\n",
       "      <td>Slight</td>\n",
       "      <td>23-02-2022</td>\n",
       "      <td>57.585044</td>\n",
       "      <td>Daylight</td>\n",
       "      <td>Highland</td>\n",
       "      <td>-3.862727</td>\n",
       "      <td>1</td>\n",
       "      <td>3</td>\n",
       "      <td>Frost or ice</td>\n",
       "      <td>Single carriageway</td>\n",
       "      <td>Rural</td>\n",
       "      <td>Fine no high winds</td>\n",
       "      <td>Car</td>\n",
       "    </tr>\n",
       "    <tr>\n",
       "      <th>660677</th>\n",
       "      <td>201091NM01964</td>\n",
       "      <td>Serious</td>\n",
       "      <td>23-02-2022</td>\n",
       "      <td>57.214898</td>\n",
       "      <td>Darkness - no lighting</td>\n",
       "      <td>Highland</td>\n",
       "      <td>-3.823997</td>\n",
       "      <td>1</td>\n",
       "      <td>2</td>\n",
       "      <td>Wet or damp</td>\n",
       "      <td>Single carriageway</td>\n",
       "      <td>Rural</td>\n",
       "      <td>Fine no high winds</td>\n",
       "      <td>Motorcycle over 500cc</td>\n",
       "    </tr>\n",
       "    <tr>\n",
       "      <th>660678</th>\n",
       "      <td>201091NM02142</td>\n",
       "      <td>Serious</td>\n",
       "      <td>28-02-2022</td>\n",
       "      <td>57.575210</td>\n",
       "      <td>Daylight</td>\n",
       "      <td>Highland</td>\n",
       "      <td>-3.895673</td>\n",
       "      <td>1</td>\n",
       "      <td>1</td>\n",
       "      <td>Wet or damp</td>\n",
       "      <td>Dual carriageway</td>\n",
       "      <td>Rural</td>\n",
       "      <td>Snowing no high winds</td>\n",
       "      <td>Car</td>\n",
       "    </tr>\n",
       "  </tbody>\n",
       "</table>\n",
       "<p>660679 rows × 14 columns</p>\n",
       "</div>"
      ],
      "text/plain": [
       "                Index Accident_Severity Accident Date   Latitude  \\\n",
       "0       200701BS64157           Serious      5/6/2019  51.506187   \n",
       "1       200701BS65737           Serious      2/7/2019  51.495029   \n",
       "2       200701BS66127           Serious    26-08-2019  51.517715   \n",
       "3       200701BS66128           Serious    16-08-2019  51.495478   \n",
       "4       200701BS66837            Slight      3/9/2019  51.488576   \n",
       "...               ...               ...           ...        ...   \n",
       "660674  201091NM01760            Slight    18-02-2022  57.374005   \n",
       "660675  201091NM01881            Slight    21-02-2022  57.232273   \n",
       "660676  201091NM01935            Slight    23-02-2022  57.585044   \n",
       "660677  201091NM01964           Serious    23-02-2022  57.214898   \n",
       "660678  201091NM02142           Serious    28-02-2022  57.575210   \n",
       "\n",
       "                   Light_Conditions           District Area  Longitude  \\\n",
       "0             Darkness - lights lit  Kensington and Chelsea  -0.209082   \n",
       "1                          Daylight  Kensington and Chelsea  -0.173647   \n",
       "2       Darkness - lighting unknown  Kensington and Chelsea  -0.210215   \n",
       "3                          Daylight  Kensington and Chelsea  -0.202731   \n",
       "4             Darkness - lights lit  Kensington and Chelsea  -0.192487   \n",
       "...                             ...                     ...        ...   \n",
       "660674                     Daylight                Highland  -3.467828   \n",
       "660675       Darkness - no lighting                Highland  -3.809281   \n",
       "660676                     Daylight                Highland  -3.862727   \n",
       "660677       Darkness - no lighting                Highland  -3.823997   \n",
       "660678                     Daylight                Highland  -3.895673   \n",
       "\n",
       "        Number_of_Casualties  Number_of_Vehicles Road_Surface_Conditions  \\\n",
       "0                          1                   2                     Dry   \n",
       "1                          1                   2             Wet or damp   \n",
       "2                          1                   3                     Dry   \n",
       "3                          1                   4                     Dry   \n",
       "4                          1                   2                     Dry   \n",
       "...                      ...                 ...                     ...   \n",
       "660674                     2                   1                     Dry   \n",
       "660675                     1                   1            Frost or ice   \n",
       "660676                     1                   3            Frost or ice   \n",
       "660677                     1                   2             Wet or damp   \n",
       "660678                     1                   1             Wet or damp   \n",
       "\n",
       "                 Road_Type Urban_or_Rural_Area     Weather_Conditions  \\\n",
       "0       Single carriageway               Urban     Fine no high winds   \n",
       "1       Single carriageway               Urban  Raining no high winds   \n",
       "2                      NaN               Urban                    NaN   \n",
       "3       Single carriageway               Urban     Fine no high winds   \n",
       "4                      NaN               Urban                    NaN   \n",
       "...                    ...                 ...                    ...   \n",
       "660674  Single carriageway               Rural     Fine no high winds   \n",
       "660675  Single carriageway               Rural     Fine no high winds   \n",
       "660676  Single carriageway               Rural     Fine no high winds   \n",
       "660677  Single carriageway               Rural     Fine no high winds   \n",
       "660678    Dual carriageway               Rural  Snowing no high winds   \n",
       "\n",
       "                                Vehicle_Type  \n",
       "0                                        Car  \n",
       "1                                        Car  \n",
       "2                      Taxi/Private hire car  \n",
       "3       Bus or coach (17 or more pass seats)  \n",
       "4                              Other vehicle  \n",
       "...                                      ...  \n",
       "660674                                   Car  \n",
       "660675                                   Car  \n",
       "660676                                   Car  \n",
       "660677                 Motorcycle over 500cc  \n",
       "660678                                   Car  \n",
       "\n",
       "[660679 rows x 14 columns]"
      ]
     },
     "execution_count": 4,
     "metadata": {},
     "output_type": "execute_result"
    }
   ],
   "source": [
    "acci"
   ]
  },
  {
   "cell_type": "markdown",
   "id": "604fdc02-eef7-4093-846f-6dec9f9e16d9",
   "metadata": {},
   "source": [
    "<h2>Check Dataframe Information</h2>"
   ]
  },
  {
   "cell_type": "code",
   "execution_count": 5,
   "id": "ca3a9529-17cd-42aa-b0ef-8350d688159e",
   "metadata": {},
   "outputs": [
    {
     "data": {
      "text/plain": [
       "<bound method DataFrame.info of                 Index Accident_Severity Accident Date   Latitude  \\\n",
       "0       200701BS64157           Serious      5/6/2019  51.506187   \n",
       "1       200701BS65737           Serious      2/7/2019  51.495029   \n",
       "2       200701BS66127           Serious    26-08-2019  51.517715   \n",
       "3       200701BS66128           Serious    16-08-2019  51.495478   \n",
       "4       200701BS66837            Slight      3/9/2019  51.488576   \n",
       "...               ...               ...           ...        ...   \n",
       "660674  201091NM01760            Slight    18-02-2022  57.374005   \n",
       "660675  201091NM01881            Slight    21-02-2022  57.232273   \n",
       "660676  201091NM01935            Slight    23-02-2022  57.585044   \n",
       "660677  201091NM01964           Serious    23-02-2022  57.214898   \n",
       "660678  201091NM02142           Serious    28-02-2022  57.575210   \n",
       "\n",
       "                   Light_Conditions           District Area  Longitude  \\\n",
       "0             Darkness - lights lit  Kensington and Chelsea  -0.209082   \n",
       "1                          Daylight  Kensington and Chelsea  -0.173647   \n",
       "2       Darkness - lighting unknown  Kensington and Chelsea  -0.210215   \n",
       "3                          Daylight  Kensington and Chelsea  -0.202731   \n",
       "4             Darkness - lights lit  Kensington and Chelsea  -0.192487   \n",
       "...                             ...                     ...        ...   \n",
       "660674                     Daylight                Highland  -3.467828   \n",
       "660675       Darkness - no lighting                Highland  -3.809281   \n",
       "660676                     Daylight                Highland  -3.862727   \n",
       "660677       Darkness - no lighting                Highland  -3.823997   \n",
       "660678                     Daylight                Highland  -3.895673   \n",
       "\n",
       "        Number_of_Casualties  Number_of_Vehicles Road_Surface_Conditions  \\\n",
       "0                          1                   2                     Dry   \n",
       "1                          1                   2             Wet or damp   \n",
       "2                          1                   3                     Dry   \n",
       "3                          1                   4                     Dry   \n",
       "4                          1                   2                     Dry   \n",
       "...                      ...                 ...                     ...   \n",
       "660674                     2                   1                     Dry   \n",
       "660675                     1                   1            Frost or ice   \n",
       "660676                     1                   3            Frost or ice   \n",
       "660677                     1                   2             Wet or damp   \n",
       "660678                     1                   1             Wet or damp   \n",
       "\n",
       "                 Road_Type Urban_or_Rural_Area     Weather_Conditions  \\\n",
       "0       Single carriageway               Urban     Fine no high winds   \n",
       "1       Single carriageway               Urban  Raining no high winds   \n",
       "2                      NaN               Urban                    NaN   \n",
       "3       Single carriageway               Urban     Fine no high winds   \n",
       "4                      NaN               Urban                    NaN   \n",
       "...                    ...                 ...                    ...   \n",
       "660674  Single carriageway               Rural     Fine no high winds   \n",
       "660675  Single carriageway               Rural     Fine no high winds   \n",
       "660676  Single carriageway               Rural     Fine no high winds   \n",
       "660677  Single carriageway               Rural     Fine no high winds   \n",
       "660678    Dual carriageway               Rural  Snowing no high winds   \n",
       "\n",
       "                                Vehicle_Type  \n",
       "0                                        Car  \n",
       "1                                        Car  \n",
       "2                      Taxi/Private hire car  \n",
       "3       Bus or coach (17 or more pass seats)  \n",
       "4                              Other vehicle  \n",
       "...                                      ...  \n",
       "660674                                   Car  \n",
       "660675                                   Car  \n",
       "660676                                   Car  \n",
       "660677                 Motorcycle over 500cc  \n",
       "660678                                   Car  \n",
       "\n",
       "[660679 rows x 14 columns]>"
      ]
     },
     "execution_count": 5,
     "metadata": {},
     "output_type": "execute_result"
    }
   ],
   "source": [
    "acci.info"
   ]
  },
  {
   "cell_type": "markdown",
   "id": "476cb70c-6675-4ec9-8d53-4932ac7c4c41",
   "metadata": {},
   "source": [
    "<h2>Check Discriptive Statistics</h2>"
   ]
  },
  {
   "cell_type": "code",
   "execution_count": 6,
   "id": "5b55733a-5f6c-4047-9914-9d0c499dbe13",
   "metadata": {},
   "outputs": [
    {
     "data": {
      "text/plain": [
       "<bound method NDFrame.describe of                 Index Accident_Severity Accident Date   Latitude  \\\n",
       "0       200701BS64157           Serious      5/6/2019  51.506187   \n",
       "1       200701BS65737           Serious      2/7/2019  51.495029   \n",
       "2       200701BS66127           Serious    26-08-2019  51.517715   \n",
       "3       200701BS66128           Serious    16-08-2019  51.495478   \n",
       "4       200701BS66837            Slight      3/9/2019  51.488576   \n",
       "...               ...               ...           ...        ...   \n",
       "660674  201091NM01760            Slight    18-02-2022  57.374005   \n",
       "660675  201091NM01881            Slight    21-02-2022  57.232273   \n",
       "660676  201091NM01935            Slight    23-02-2022  57.585044   \n",
       "660677  201091NM01964           Serious    23-02-2022  57.214898   \n",
       "660678  201091NM02142           Serious    28-02-2022  57.575210   \n",
       "\n",
       "                   Light_Conditions           District Area  Longitude  \\\n",
       "0             Darkness - lights lit  Kensington and Chelsea  -0.209082   \n",
       "1                          Daylight  Kensington and Chelsea  -0.173647   \n",
       "2       Darkness - lighting unknown  Kensington and Chelsea  -0.210215   \n",
       "3                          Daylight  Kensington and Chelsea  -0.202731   \n",
       "4             Darkness - lights lit  Kensington and Chelsea  -0.192487   \n",
       "...                             ...                     ...        ...   \n",
       "660674                     Daylight                Highland  -3.467828   \n",
       "660675       Darkness - no lighting                Highland  -3.809281   \n",
       "660676                     Daylight                Highland  -3.862727   \n",
       "660677       Darkness - no lighting                Highland  -3.823997   \n",
       "660678                     Daylight                Highland  -3.895673   \n",
       "\n",
       "        Number_of_Casualties  Number_of_Vehicles Road_Surface_Conditions  \\\n",
       "0                          1                   2                     Dry   \n",
       "1                          1                   2             Wet or damp   \n",
       "2                          1                   3                     Dry   \n",
       "3                          1                   4                     Dry   \n",
       "4                          1                   2                     Dry   \n",
       "...                      ...                 ...                     ...   \n",
       "660674                     2                   1                     Dry   \n",
       "660675                     1                   1            Frost or ice   \n",
       "660676                     1                   3            Frost or ice   \n",
       "660677                     1                   2             Wet or damp   \n",
       "660678                     1                   1             Wet or damp   \n",
       "\n",
       "                 Road_Type Urban_or_Rural_Area     Weather_Conditions  \\\n",
       "0       Single carriageway               Urban     Fine no high winds   \n",
       "1       Single carriageway               Urban  Raining no high winds   \n",
       "2                      NaN               Urban                    NaN   \n",
       "3       Single carriageway               Urban     Fine no high winds   \n",
       "4                      NaN               Urban                    NaN   \n",
       "...                    ...                 ...                    ...   \n",
       "660674  Single carriageway               Rural     Fine no high winds   \n",
       "660675  Single carriageway               Rural     Fine no high winds   \n",
       "660676  Single carriageway               Rural     Fine no high winds   \n",
       "660677  Single carriageway               Rural     Fine no high winds   \n",
       "660678    Dual carriageway               Rural  Snowing no high winds   \n",
       "\n",
       "                                Vehicle_Type  \n",
       "0                                        Car  \n",
       "1                                        Car  \n",
       "2                      Taxi/Private hire car  \n",
       "3       Bus or coach (17 or more pass seats)  \n",
       "4                              Other vehicle  \n",
       "...                                      ...  \n",
       "660674                                   Car  \n",
       "660675                                   Car  \n",
       "660676                                   Car  \n",
       "660677                 Motorcycle over 500cc  \n",
       "660678                                   Car  \n",
       "\n",
       "[660679 rows x 14 columns]>"
      ]
     },
     "execution_count": 6,
     "metadata": {},
     "output_type": "execute_result"
    }
   ],
   "source": [
    "acci.describe"
   ]
  },
  {
   "cell_type": "markdown",
   "id": "b3f26da2-37c0-490d-ad9f-730ddccbf933",
   "metadata": {},
   "source": [
    "<h2>Call Each Column Individually</h2>"
   ]
  },
  {
   "cell_type": "code",
   "execution_count": 7,
   "id": "2e33c773-64df-44e6-a891-f228dda93500",
   "metadata": {},
   "outputs": [
    {
     "data": {
      "text/plain": [
       "0         200701BS64157\n",
       "1         200701BS65737\n",
       "2         200701BS66127\n",
       "3         200701BS66128\n",
       "4         200701BS66837\n",
       "              ...      \n",
       "660674    201091NM01760\n",
       "660675    201091NM01881\n",
       "660676    201091NM01935\n",
       "660677    201091NM01964\n",
       "660678    201091NM02142\n",
       "Name: Index, Length: 660679, dtype: object"
      ]
     },
     "execution_count": 7,
     "metadata": {},
     "output_type": "execute_result"
    }
   ],
   "source": [
    "acci['Index']"
   ]
  },
  {
   "cell_type": "code",
   "execution_count": 8,
   "id": "e9244015-f935-4f05-adf6-a247d1953361",
   "metadata": {},
   "outputs": [
    {
     "data": {
      "text/plain": [
       "0         Serious\n",
       "1         Serious\n",
       "2         Serious\n",
       "3         Serious\n",
       "4          Slight\n",
       "           ...   \n",
       "660674     Slight\n",
       "660675     Slight\n",
       "660676     Slight\n",
       "660677    Serious\n",
       "660678    Serious\n",
       "Name: Accident_Severity, Length: 660679, dtype: object"
      ]
     },
     "execution_count": 8,
     "metadata": {},
     "output_type": "execute_result"
    }
   ],
   "source": [
    "acci['Accident_Severity']"
   ]
  },
  {
   "cell_type": "code",
   "execution_count": 9,
   "id": "c7a1bc8e-f65d-4aad-81d1-d90c295234e0",
   "metadata": {},
   "outputs": [
    {
     "data": {
      "text/plain": [
       "0           5/6/2019\n",
       "1           2/7/2019\n",
       "2         26-08-2019\n",
       "3         16-08-2019\n",
       "4           3/9/2019\n",
       "             ...    \n",
       "660674    18-02-2022\n",
       "660675    21-02-2022\n",
       "660676    23-02-2022\n",
       "660677    23-02-2022\n",
       "660678    28-02-2022\n",
       "Name: Accident Date, Length: 660679, dtype: object"
      ]
     },
     "execution_count": 9,
     "metadata": {},
     "output_type": "execute_result"
    }
   ],
   "source": [
    "acci['Accident Date']"
   ]
  },
  {
   "cell_type": "code",
   "execution_count": 10,
   "id": "a331dae9-e8d4-447f-b709-e8ebcf07d9c4",
   "metadata": {},
   "outputs": [
    {
     "data": {
      "text/plain": [
       "0         51.506187\n",
       "1         51.495029\n",
       "2         51.517715\n",
       "3         51.495478\n",
       "4         51.488576\n",
       "            ...    \n",
       "660674    57.374005\n",
       "660675    57.232273\n",
       "660676    57.585044\n",
       "660677    57.214898\n",
       "660678    57.575210\n",
       "Name: Latitude, Length: 660679, dtype: float64"
      ]
     },
     "execution_count": 10,
     "metadata": {},
     "output_type": "execute_result"
    }
   ],
   "source": [
    "acci['Latitude']"
   ]
  },
  {
   "cell_type": "code",
   "execution_count": 11,
   "id": "ba23f019-97e5-4743-a1a3-49d0ff728114",
   "metadata": {},
   "outputs": [
    {
     "data": {
      "text/plain": [
       "0               Darkness - lights lit\n",
       "1                            Daylight\n",
       "2         Darkness - lighting unknown\n",
       "3                            Daylight\n",
       "4               Darkness - lights lit\n",
       "                     ...             \n",
       "660674                       Daylight\n",
       "660675         Darkness - no lighting\n",
       "660676                       Daylight\n",
       "660677         Darkness - no lighting\n",
       "660678                       Daylight\n",
       "Name: Light_Conditions, Length: 660679, dtype: object"
      ]
     },
     "execution_count": 11,
     "metadata": {},
     "output_type": "execute_result"
    }
   ],
   "source": [
    "acci['Light_Conditions']"
   ]
  },
  {
   "cell_type": "code",
   "execution_count": 12,
   "id": "20a625a7-1565-4e32-8637-4c39e7641a0b",
   "metadata": {},
   "outputs": [
    {
     "data": {
      "text/plain": [
       "0         Kensington and Chelsea\n",
       "1         Kensington and Chelsea\n",
       "2         Kensington and Chelsea\n",
       "3         Kensington and Chelsea\n",
       "4         Kensington and Chelsea\n",
       "                   ...          \n",
       "660674                  Highland\n",
       "660675                  Highland\n",
       "660676                  Highland\n",
       "660677                  Highland\n",
       "660678                  Highland\n",
       "Name: District Area, Length: 660679, dtype: object"
      ]
     },
     "execution_count": 12,
     "metadata": {},
     "output_type": "execute_result"
    }
   ],
   "source": [
    "acci['District Area']"
   ]
  },
  {
   "cell_type": "code",
   "execution_count": 13,
   "id": "97c9130c-cba2-41b6-b262-07f59ba85ae0",
   "metadata": {},
   "outputs": [
    {
     "data": {
      "text/plain": [
       "0         1\n",
       "1         1\n",
       "2         1\n",
       "3         1\n",
       "4         1\n",
       "         ..\n",
       "660674    2\n",
       "660675    1\n",
       "660676    1\n",
       "660677    1\n",
       "660678    1\n",
       "Name: Number_of_Casualties, Length: 660679, dtype: int64"
      ]
     },
     "execution_count": 13,
     "metadata": {},
     "output_type": "execute_result"
    }
   ],
   "source": [
    "acci['Number_of_Casualties']"
   ]
  },
  {
   "cell_type": "code",
   "execution_count": 14,
   "id": "28fb21ab-4389-40c5-ab58-6734efcf056e",
   "metadata": {},
   "outputs": [
    {
     "data": {
      "text/plain": [
       "0         2\n",
       "1         2\n",
       "2         3\n",
       "3         4\n",
       "4         2\n",
       "         ..\n",
       "660674    1\n",
       "660675    1\n",
       "660676    3\n",
       "660677    2\n",
       "660678    1\n",
       "Name: Number_of_Vehicles, Length: 660679, dtype: int64"
      ]
     },
     "execution_count": 14,
     "metadata": {},
     "output_type": "execute_result"
    }
   ],
   "source": [
    "acci['Number_of_Vehicles']"
   ]
  },
  {
   "cell_type": "code",
   "execution_count": 15,
   "id": "576a9d10-c468-4b2d-ab4c-d8edd1599f4f",
   "metadata": {},
   "outputs": [
    {
     "data": {
      "text/plain": [
       "0                  Dry\n",
       "1          Wet or damp\n",
       "2                  Dry\n",
       "3                  Dry\n",
       "4                  Dry\n",
       "              ...     \n",
       "660674             Dry\n",
       "660675    Frost or ice\n",
       "660676    Frost or ice\n",
       "660677     Wet or damp\n",
       "660678     Wet or damp\n",
       "Name: Road_Surface_Conditions, Length: 660679, dtype: object"
      ]
     },
     "execution_count": 15,
     "metadata": {},
     "output_type": "execute_result"
    }
   ],
   "source": [
    "acci['Road_Surface_Conditions']"
   ]
  },
  {
   "cell_type": "code",
   "execution_count": 16,
   "id": "402999cd-f274-4eff-8c10-7e852bf0d648",
   "metadata": {},
   "outputs": [
    {
     "data": {
      "text/plain": [
       "0         Single carriageway\n",
       "1         Single carriageway\n",
       "2                        NaN\n",
       "3         Single carriageway\n",
       "4                        NaN\n",
       "                 ...        \n",
       "660674    Single carriageway\n",
       "660675    Single carriageway\n",
       "660676    Single carriageway\n",
       "660677    Single carriageway\n",
       "660678      Dual carriageway\n",
       "Name: Road_Type, Length: 660679, dtype: object"
      ]
     },
     "execution_count": 16,
     "metadata": {},
     "output_type": "execute_result"
    }
   ],
   "source": [
    "acci['Road_Type']"
   ]
  },
  {
   "cell_type": "code",
   "execution_count": 17,
   "id": "f9e66aeb-5632-4633-9525-2cee441956a3",
   "metadata": {},
   "outputs": [
    {
     "data": {
      "text/plain": [
       "0         Urban\n",
       "1         Urban\n",
       "2         Urban\n",
       "3         Urban\n",
       "4         Urban\n",
       "          ...  \n",
       "660674    Rural\n",
       "660675    Rural\n",
       "660676    Rural\n",
       "660677    Rural\n",
       "660678    Rural\n",
       "Name: Urban_or_Rural_Area, Length: 660679, dtype: object"
      ]
     },
     "execution_count": 17,
     "metadata": {},
     "output_type": "execute_result"
    }
   ],
   "source": [
    "acci['Urban_or_Rural_Area']"
   ]
  },
  {
   "cell_type": "code",
   "execution_count": 18,
   "id": "6a82cadc-9e89-4c90-8d20-50ae0e43aa81",
   "metadata": {},
   "outputs": [
    {
     "data": {
      "text/plain": [
       "0            Fine no high winds\n",
       "1         Raining no high winds\n",
       "2                           NaN\n",
       "3            Fine no high winds\n",
       "4                           NaN\n",
       "                  ...          \n",
       "660674       Fine no high winds\n",
       "660675       Fine no high winds\n",
       "660676       Fine no high winds\n",
       "660677       Fine no high winds\n",
       "660678    Snowing no high winds\n",
       "Name: Weather_Conditions, Length: 660679, dtype: object"
      ]
     },
     "execution_count": 18,
     "metadata": {},
     "output_type": "execute_result"
    }
   ],
   "source": [
    "acci['Weather_Conditions']"
   ]
  },
  {
   "cell_type": "code",
   "execution_count": 19,
   "id": "dd93a489-e9a7-41a4-94b9-52ebd4d0bbdb",
   "metadata": {},
   "outputs": [
    {
     "data": {
      "text/plain": [
       "0                                          Car\n",
       "1                                          Car\n",
       "2                        Taxi/Private hire car\n",
       "3         Bus or coach (17 or more pass seats)\n",
       "4                                Other vehicle\n",
       "                          ...                 \n",
       "660674                                     Car\n",
       "660675                                     Car\n",
       "660676                                     Car\n",
       "660677                   Motorcycle over 500cc\n",
       "660678                                     Car\n",
       "Name: Vehicle_Type, Length: 660679, dtype: object"
      ]
     },
     "execution_count": 19,
     "metadata": {},
     "output_type": "execute_result"
    }
   ],
   "source": [
    "acci['Vehicle_Type']"
   ]
  },
  {
   "cell_type": "markdown",
   "id": "841c46be-7826-4af3-b51d-3653425a333d",
   "metadata": {},
   "source": [
    "<h2>Check For Null Values</h2>"
   ]
  },
  {
   "cell_type": "code",
   "execution_count": 20,
   "id": "0d739c9b-124b-4481-9a70-f980ab601eb0",
   "metadata": {},
   "outputs": [
    {
     "data": {
      "text/html": [
       "<div>\n",
       "<style scoped>\n",
       "    .dataframe tbody tr th:only-of-type {\n",
       "        vertical-align: middle;\n",
       "    }\n",
       "\n",
       "    .dataframe tbody tr th {\n",
       "        vertical-align: top;\n",
       "    }\n",
       "\n",
       "    .dataframe thead th {\n",
       "        text-align: right;\n",
       "    }\n",
       "</style>\n",
       "<table border=\"1\" class=\"dataframe\">\n",
       "  <thead>\n",
       "    <tr style=\"text-align: right;\">\n",
       "      <th></th>\n",
       "      <th>Index</th>\n",
       "      <th>Accident_Severity</th>\n",
       "      <th>Accident Date</th>\n",
       "      <th>Latitude</th>\n",
       "      <th>Light_Conditions</th>\n",
       "      <th>District Area</th>\n",
       "      <th>Longitude</th>\n",
       "      <th>Number_of_Casualties</th>\n",
       "      <th>Number_of_Vehicles</th>\n",
       "      <th>Road_Surface_Conditions</th>\n",
       "      <th>Road_Type</th>\n",
       "      <th>Urban_or_Rural_Area</th>\n",
       "      <th>Weather_Conditions</th>\n",
       "      <th>Vehicle_Type</th>\n",
       "    </tr>\n",
       "  </thead>\n",
       "  <tbody>\n",
       "    <tr>\n",
       "      <th>0</th>\n",
       "      <td>False</td>\n",
       "      <td>False</td>\n",
       "      <td>False</td>\n",
       "      <td>False</td>\n",
       "      <td>False</td>\n",
       "      <td>False</td>\n",
       "      <td>False</td>\n",
       "      <td>False</td>\n",
       "      <td>False</td>\n",
       "      <td>False</td>\n",
       "      <td>False</td>\n",
       "      <td>False</td>\n",
       "      <td>False</td>\n",
       "      <td>False</td>\n",
       "    </tr>\n",
       "    <tr>\n",
       "      <th>1</th>\n",
       "      <td>False</td>\n",
       "      <td>False</td>\n",
       "      <td>False</td>\n",
       "      <td>False</td>\n",
       "      <td>False</td>\n",
       "      <td>False</td>\n",
       "      <td>False</td>\n",
       "      <td>False</td>\n",
       "      <td>False</td>\n",
       "      <td>False</td>\n",
       "      <td>False</td>\n",
       "      <td>False</td>\n",
       "      <td>False</td>\n",
       "      <td>False</td>\n",
       "    </tr>\n",
       "    <tr>\n",
       "      <th>2</th>\n",
       "      <td>False</td>\n",
       "      <td>False</td>\n",
       "      <td>False</td>\n",
       "      <td>False</td>\n",
       "      <td>False</td>\n",
       "      <td>False</td>\n",
       "      <td>False</td>\n",
       "      <td>False</td>\n",
       "      <td>False</td>\n",
       "      <td>False</td>\n",
       "      <td>True</td>\n",
       "      <td>False</td>\n",
       "      <td>True</td>\n",
       "      <td>False</td>\n",
       "    </tr>\n",
       "    <tr>\n",
       "      <th>3</th>\n",
       "      <td>False</td>\n",
       "      <td>False</td>\n",
       "      <td>False</td>\n",
       "      <td>False</td>\n",
       "      <td>False</td>\n",
       "      <td>False</td>\n",
       "      <td>False</td>\n",
       "      <td>False</td>\n",
       "      <td>False</td>\n",
       "      <td>False</td>\n",
       "      <td>False</td>\n",
       "      <td>False</td>\n",
       "      <td>False</td>\n",
       "      <td>False</td>\n",
       "    </tr>\n",
       "    <tr>\n",
       "      <th>4</th>\n",
       "      <td>False</td>\n",
       "      <td>False</td>\n",
       "      <td>False</td>\n",
       "      <td>False</td>\n",
       "      <td>False</td>\n",
       "      <td>False</td>\n",
       "      <td>False</td>\n",
       "      <td>False</td>\n",
       "      <td>False</td>\n",
       "      <td>False</td>\n",
       "      <td>True</td>\n",
       "      <td>False</td>\n",
       "      <td>True</td>\n",
       "      <td>False</td>\n",
       "    </tr>\n",
       "    <tr>\n",
       "      <th>...</th>\n",
       "      <td>...</td>\n",
       "      <td>...</td>\n",
       "      <td>...</td>\n",
       "      <td>...</td>\n",
       "      <td>...</td>\n",
       "      <td>...</td>\n",
       "      <td>...</td>\n",
       "      <td>...</td>\n",
       "      <td>...</td>\n",
       "      <td>...</td>\n",
       "      <td>...</td>\n",
       "      <td>...</td>\n",
       "      <td>...</td>\n",
       "      <td>...</td>\n",
       "    </tr>\n",
       "    <tr>\n",
       "      <th>660674</th>\n",
       "      <td>False</td>\n",
       "      <td>False</td>\n",
       "      <td>False</td>\n",
       "      <td>False</td>\n",
       "      <td>False</td>\n",
       "      <td>False</td>\n",
       "      <td>False</td>\n",
       "      <td>False</td>\n",
       "      <td>False</td>\n",
       "      <td>False</td>\n",
       "      <td>False</td>\n",
       "      <td>False</td>\n",
       "      <td>False</td>\n",
       "      <td>False</td>\n",
       "    </tr>\n",
       "    <tr>\n",
       "      <th>660675</th>\n",
       "      <td>False</td>\n",
       "      <td>False</td>\n",
       "      <td>False</td>\n",
       "      <td>False</td>\n",
       "      <td>False</td>\n",
       "      <td>False</td>\n",
       "      <td>False</td>\n",
       "      <td>False</td>\n",
       "      <td>False</td>\n",
       "      <td>False</td>\n",
       "      <td>False</td>\n",
       "      <td>False</td>\n",
       "      <td>False</td>\n",
       "      <td>False</td>\n",
       "    </tr>\n",
       "    <tr>\n",
       "      <th>660676</th>\n",
       "      <td>False</td>\n",
       "      <td>False</td>\n",
       "      <td>False</td>\n",
       "      <td>False</td>\n",
       "      <td>False</td>\n",
       "      <td>False</td>\n",
       "      <td>False</td>\n",
       "      <td>False</td>\n",
       "      <td>False</td>\n",
       "      <td>False</td>\n",
       "      <td>False</td>\n",
       "      <td>False</td>\n",
       "      <td>False</td>\n",
       "      <td>False</td>\n",
       "    </tr>\n",
       "    <tr>\n",
       "      <th>660677</th>\n",
       "      <td>False</td>\n",
       "      <td>False</td>\n",
       "      <td>False</td>\n",
       "      <td>False</td>\n",
       "      <td>False</td>\n",
       "      <td>False</td>\n",
       "      <td>False</td>\n",
       "      <td>False</td>\n",
       "      <td>False</td>\n",
       "      <td>False</td>\n",
       "      <td>False</td>\n",
       "      <td>False</td>\n",
       "      <td>False</td>\n",
       "      <td>False</td>\n",
       "    </tr>\n",
       "    <tr>\n",
       "      <th>660678</th>\n",
       "      <td>False</td>\n",
       "      <td>False</td>\n",
       "      <td>False</td>\n",
       "      <td>False</td>\n",
       "      <td>False</td>\n",
       "      <td>False</td>\n",
       "      <td>False</td>\n",
       "      <td>False</td>\n",
       "      <td>False</td>\n",
       "      <td>False</td>\n",
       "      <td>False</td>\n",
       "      <td>False</td>\n",
       "      <td>False</td>\n",
       "      <td>False</td>\n",
       "    </tr>\n",
       "  </tbody>\n",
       "</table>\n",
       "<p>660679 rows × 14 columns</p>\n",
       "</div>"
      ],
      "text/plain": [
       "        Index  Accident_Severity  Accident Date  Latitude  Light_Conditions  \\\n",
       "0       False              False          False     False             False   \n",
       "1       False              False          False     False             False   \n",
       "2       False              False          False     False             False   \n",
       "3       False              False          False     False             False   \n",
       "4       False              False          False     False             False   \n",
       "...       ...                ...            ...       ...               ...   \n",
       "660674  False              False          False     False             False   \n",
       "660675  False              False          False     False             False   \n",
       "660676  False              False          False     False             False   \n",
       "660677  False              False          False     False             False   \n",
       "660678  False              False          False     False             False   \n",
       "\n",
       "        District Area  Longitude  Number_of_Casualties  Number_of_Vehicles  \\\n",
       "0               False      False                 False               False   \n",
       "1               False      False                 False               False   \n",
       "2               False      False                 False               False   \n",
       "3               False      False                 False               False   \n",
       "4               False      False                 False               False   \n",
       "...               ...        ...                   ...                 ...   \n",
       "660674          False      False                 False               False   \n",
       "660675          False      False                 False               False   \n",
       "660676          False      False                 False               False   \n",
       "660677          False      False                 False               False   \n",
       "660678          False      False                 False               False   \n",
       "\n",
       "        Road_Surface_Conditions  Road_Type  Urban_or_Rural_Area  \\\n",
       "0                         False      False                False   \n",
       "1                         False      False                False   \n",
       "2                         False       True                False   \n",
       "3                         False      False                False   \n",
       "4                         False       True                False   \n",
       "...                         ...        ...                  ...   \n",
       "660674                    False      False                False   \n",
       "660675                    False      False                False   \n",
       "660676                    False      False                False   \n",
       "660677                    False      False                False   \n",
       "660678                    False      False                False   \n",
       "\n",
       "        Weather_Conditions  Vehicle_Type  \n",
       "0                    False         False  \n",
       "1                    False         False  \n",
       "2                     True         False  \n",
       "3                    False         False  \n",
       "4                     True         False  \n",
       "...                    ...           ...  \n",
       "660674               False         False  \n",
       "660675               False         False  \n",
       "660676               False         False  \n",
       "660677               False         False  \n",
       "660678               False         False  \n",
       "\n",
       "[660679 rows x 14 columns]"
      ]
     },
     "execution_count": 20,
     "metadata": {},
     "output_type": "execute_result"
    }
   ],
   "source": [
    "acci.isnull()"
   ]
  },
  {
   "cell_type": "markdown",
   "id": "e602f259-50e9-41ef-b63d-f979cc584f9c",
   "metadata": {},
   "source": [
    "<h2>Fill Null Values with statistical values</h2>"
   ]
  },
  {
   "cell_type": "code",
   "execution_count": 21,
   "id": "c0feefeb-afa1-4778-8eb4-d709c9966d44",
   "metadata": {},
   "outputs": [],
   "source": [
    "acci['Accident_Severity'] = acci['Accident_Severity'].fillna(acci['Accident_Severity'].mode()[0])\n",
    "acci['Light_Conditions'] = acci['Light_Conditions'].fillna(acci['Light_Conditions'].mode()[0])\n",
    "acci['Road_Surface_Conditions'] = acci['Road_Surface_Conditions'].fillna(acci['Road_Surface_Conditions'].mode()[0])\n",
    "acci['Number_of_Casualties'] = acci['Number_of_Casualties'].fillna(acci['Number_of_Casualties'].median())\n",
    "acci['Number_of_Vehicles'] = acci['Number_of_Vehicles'].fillna(acci['Number_of_Vehicles'].median())\n",
    "acci['District Area'] = acci['District Area'].fillna(acci['District Area'].mode()[0])"
   ]
  },
  {
   "cell_type": "code",
   "execution_count": 22,
   "id": "f9dc4d85-c363-4da3-b533-082c89ef5b1f",
   "metadata": {},
   "outputs": [
    {
     "data": {
      "text/plain": [
       "<bound method DataFrame.sum of         Index  Accident_Severity  Accident Date  Latitude  Light_Conditions  \\\n",
       "0       False              False          False     False             False   \n",
       "1       False              False          False     False             False   \n",
       "2       False              False          False     False             False   \n",
       "3       False              False          False     False             False   \n",
       "4       False              False          False     False             False   \n",
       "...       ...                ...            ...       ...               ...   \n",
       "660674  False              False          False     False             False   \n",
       "660675  False              False          False     False             False   \n",
       "660676  False              False          False     False             False   \n",
       "660677  False              False          False     False             False   \n",
       "660678  False              False          False     False             False   \n",
       "\n",
       "        District Area  Longitude  Number_of_Casualties  Number_of_Vehicles  \\\n",
       "0               False      False                 False               False   \n",
       "1               False      False                 False               False   \n",
       "2               False      False                 False               False   \n",
       "3               False      False                 False               False   \n",
       "4               False      False                 False               False   \n",
       "...               ...        ...                   ...                 ...   \n",
       "660674          False      False                 False               False   \n",
       "660675          False      False                 False               False   \n",
       "660676          False      False                 False               False   \n",
       "660677          False      False                 False               False   \n",
       "660678          False      False                 False               False   \n",
       "\n",
       "        Road_Surface_Conditions  Road_Type  Urban_or_Rural_Area  \\\n",
       "0                         False      False                False   \n",
       "1                         False      False                False   \n",
       "2                         False       True                False   \n",
       "3                         False      False                False   \n",
       "4                         False       True                False   \n",
       "...                         ...        ...                  ...   \n",
       "660674                    False      False                False   \n",
       "660675                    False      False                False   \n",
       "660676                    False      False                False   \n",
       "660677                    False      False                False   \n",
       "660678                    False      False                False   \n",
       "\n",
       "        Weather_Conditions  Vehicle_Type  \n",
       "0                    False         False  \n",
       "1                    False         False  \n",
       "2                     True         False  \n",
       "3                    False         False  \n",
       "4                     True         False  \n",
       "...                    ...           ...  \n",
       "660674               False         False  \n",
       "660675               False         False  \n",
       "660676               False         False  \n",
       "660677               False         False  \n",
       "660678               False         False  \n",
       "\n",
       "[660679 rows x 14 columns]>"
      ]
     },
     "execution_count": 22,
     "metadata": {},
     "output_type": "execute_result"
    }
   ],
   "source": [
    "acci.isnull().sum"
   ]
  },
  {
   "cell_type": "markdown",
   "id": "0c6660d5-dd9d-47d3-8156-4dec580d5513",
   "metadata": {},
   "source": [
    "<h2>Extracting date information using pandas date time </h2>"
   ]
  },
  {
   "cell_type": "code",
   "execution_count": null,
   "id": "fac47266-6ebb-4b44-af73-58ec19d3aa48",
   "metadata": {},
   "outputs": [],
   "source": []
  },
  {
   "cell_type": "code",
   "execution_count": 23,
   "id": "4a2199be-a94c-4c54-8b2f-69c9d9bfdc96",
   "metadata": {},
   "outputs": [
    {
     "data": {
      "text/plain": [
       "Index                          0\n",
       "Accident_Severity              0\n",
       "Accident Date                  0\n",
       "Latitude                      25\n",
       "Light_Conditions               0\n",
       "District Area                  0\n",
       "Longitude                     26\n",
       "Number_of_Casualties           0\n",
       "Number_of_Vehicles             0\n",
       "Road_Surface_Conditions        0\n",
       "Road_Type                   4520\n",
       "Urban_or_Rural_Area           15\n",
       "Weather_Conditions         14128\n",
       "Vehicle_Type                   0\n",
       "Year                           0\n",
       "Month                          0\n",
       "Day                            0\n",
       "DayOfWeek                      0\n",
       "dtype: int64"
      ]
     },
     "execution_count": 23,
     "metadata": {},
     "output_type": "execute_result"
    }
   ],
   "source": [
    "acci['Accident Date'] = acci['Accident Date'].astype(str)\n",
    "acci['Accident Date'] = acci['Accident Date'].apply(lambda x: x.replace('/', '-') if pd.notnull(x) else x)\n",
    "acci['Accident Date'] = acci['Accident Date'].apply(lambda x: x.strip() if pd.notnull(x) else x)                                \n",
    "acci['Accident Date'] = pd.to_datetime(acci['Accident Date'], dayfirst=True, errors='coerce')\n",
    "\n",
    "acci.dtypes\n",
    "acci.isnull().sum()\n",
    "\n",
    "acci['Year'] = acci['Accident Date'].dt.year\n",
    "acci['Month'] =  acci['Accident Date'].dt.month\n",
    "acci['Day'] =  acci['Accident Date'].dt.day\n",
    "acci['DayOfWeek'] =  acci['Accident Date'].dt.dayofweek\n",
    "acci.isnull().sum()"
   ]
  },
  {
   "cell_type": "markdown",
   "id": "34c36998-7e27-4718-b6a3-15348f95dc0d",
   "metadata": {},
   "source": [
    "<h2>QUESTION 1. Which vehicle type has the most serious accidents </h2>"
   ]
  },
  {
   "cell_type": "code",
   "execution_count": 24,
   "id": "ae896af1-4e06-4c5f-8ff6-7d82e90f1ff1",
   "metadata": {},
   "outputs": [
    {
     "data": {
      "text/plain": [
       "Vehicle_Type\n",
       "Car                                      66461\n",
       "Van / Goods 3.5 tonnes mgw or under       4554\n",
       "Motorcycle over 500cc                     3457\n",
       "Bus or coach (17 or more pass seats)      3373\n",
       "Goods 7.5 tonnes mgw and over             2321\n",
       "Motorcycle 125cc and under                2031\n",
       "Taxi/Private hire car                     1771\n",
       "Motorcycle 50cc and under                 1014\n",
       "Motorcycle over 125cc and up to 500cc     1014\n",
       "Goods over 3.5t. and under 7.5t            857\n",
       "Other vehicle                              767\n",
       "Agricultural vehicle                       282\n",
       "Minibus (8 - 16 passenger seats)           276\n",
       "Pedal cycle                                 39\n",
       "Name: count, dtype: int64"
      ]
     },
     "execution_count": 24,
     "metadata": {},
     "output_type": "execute_result"
    }
   ],
   "source": [
    "serious_vehicles = acci[acci[\"Accident_Severity\"]==\"Serious\"][\"Vehicle_Type\"].value_counts()\n",
    "serious_vehicles"
   ]
  },
  {
   "cell_type": "markdown",
   "id": "80256b5e-2885-4f76-a3eb-91fdf39cd17f",
   "metadata": {},
   "source": [
    "<h2>1. INSIGHTS</h2>\n",
    "<p>It shows that cars has the most number of serious accidents</p>"
   ]
  },
  {
   "cell_type": "markdown",
   "id": "298f2a7a-2a08-4f69-bb19-b3c2d15feb50",
   "metadata": {},
   "source": [
    "<h2>Question 2. Which light condition records the highest average casualties? </h2>"
   ]
  },
  {
   "cell_type": "code",
   "execution_count": 25,
   "id": "4910a355-fa9b-444c-be39-3bfb42605948",
   "metadata": {},
   "outputs": [
    {
     "data": {
      "text/plain": [
       "Light_Conditions\n",
       "Darkness - lighting unknown    1.306447\n",
       "Darkness - lights lit          1.369374\n",
       "Darkness - lights unlit        1.331105\n",
       "Darkness - no lighting         1.541657\n",
       "Daylight                       1.340309\n",
       "Name: Number_of_Casualties, dtype: float64"
      ]
     },
     "execution_count": 25,
     "metadata": {},
     "output_type": "execute_result"
    }
   ],
   "source": [
    "avg_casualties_light = acci.groupby(\"Light_Conditions\")[\"Number_of_Casualties\"].mean()\n",
    "avg_casualties_light"
   ]
  },
  {
   "cell_type": "markdown",
   "id": "f5d4fc59-ea88-438c-897d-fa6cce35ff74",
   "metadata": {},
   "source": [
    "<h2>2. INSIGHTS</h2>\n",
    "<p>Night with poor lighting tends to have the highest casualties per accident.</p>"
   ]
  },
  {
   "cell_type": "markdown",
   "id": "4559d003-2da7-4436-82ef-31ea3e064df7",
   "metadata": {},
   "source": [
    "<h2>Question 3. Which weather condition has the highest average casualties in rural areas?</h2>"
   ]
  },
  {
   "cell_type": "code",
   "execution_count": 26,
   "id": "5f407ceb-f3e6-4232-80a9-915eb4d97147",
   "metadata": {},
   "outputs": [
    {
     "data": {
      "text/plain": [
       "Weather_Conditions\n",
       "Fine + high winds        1.479589\n",
       "Fine no high winds       1.480076\n",
       "Fog or mist              1.513208\n",
       "Other                    1.423470\n",
       "Raining + high winds     1.485708\n",
       "Raining no high winds    1.513521\n",
       "Snowing + high winds     1.467601\n",
       "Snowing no high winds    1.401311\n",
       "Name: Number_of_Casualties, dtype: float64"
      ]
     },
     "execution_count": 26,
     "metadata": {},
     "output_type": "execute_result"
    }
   ],
   "source": [
    "\n",
    "rural_weather_casualties = acci[acci[\"Urban_or_Rural_Area\"]==\"Rural\"].groupby(\"Weather_Conditions\")[\"Number_of_Casualties\"].mean()\n",
    "rural_weather_casualties\n"
   ]
  },
  {
   "cell_type": "markdown",
   "id": "507b5077-7319-4217-91ec-5ff0483282dd",
   "metadata": {},
   "source": [
    "<h2>3. INSIGHTS</h2>\n",
    "<p>Rural crashes in rainy or foggy conditions often result in higher casualties compared to clear weather.</p>"
   ]
  },
  {
   "cell_type": "markdown",
   "id": "a799c2f5-1883-4024-b2ea-890684b5f452",
   "metadata": {},
   "source": [
    "<h2>Question 4. What is the average vehicles per accident by severity? </h2>"
   ]
  },
  {
   "cell_type": "code",
   "execution_count": 27,
   "id": "4540bb7f-8fa3-4291-bac8-e2d4c5886729",
   "metadata": {},
   "outputs": [
    {
     "data": {
      "text/plain": [
       "Accident_Severity\n",
       "Fatal      1.786976\n",
       "Serious    1.678327\n",
       "Slight     1.855864\n",
       "Name: Number_of_Vehicles, dtype: float64"
      ]
     },
     "execution_count": 27,
     "metadata": {},
     "output_type": "execute_result"
    }
   ],
   "source": [
    "avg_vehicles_severity = acci.groupby(\"Accident_Severity\")[\"Number_of_Vehicles\"].mean()\n",
    "avg_vehicles_severity"
   ]
  },
  {
   "cell_type": "markdown",
   "id": "062c9377-941b-42d5-9651-ec245603d1c4",
   "metadata": {},
   "source": [
    "<h2>4. INSIGHTS</h2>\n",
    "<p>Fatal and serious accidents usually involve more vehicles than slight accidents.</p>"
   ]
  },
  {
   "cell_type": "markdown",
   "id": "cf4b4c9a-bbd3-4915-8206-e699c16b31c2",
   "metadata": {},
   "source": [
    "<h2>Question 5. What is total number of accidents recorded</h2>"
   ]
  },
  {
   "cell_type": "code",
   "execution_count": 28,
   "id": "f8d9b15d-b90e-45e1-80f4-6c00fdc55093",
   "metadata": {},
   "outputs": [
    {
     "data": {
      "text/plain": [
       "660679"
      ]
     },
     "execution_count": 28,
     "metadata": {},
     "output_type": "execute_result"
    }
   ],
   "source": [
    "total_acci = acci.shape[0]\n",
    "total_acci"
   ]
  },
  {
   "cell_type": "markdown",
   "id": "7745747a-bb0f-4559-a126-d59291b7aca3",
   "metadata": {},
   "source": [
    "<h2>5. INSIGHTS</h2>\n",
    "<p>The total number of accidents is 660679</p>"
   ]
  },
  {
   "cell_type": "markdown",
   "id": "da80c08a-186c-4c7a-9822-e1773d4013b9",
   "metadata": {},
   "source": [
    "<h2>Question 6. Which road surface has the highest average vehicles per accident?</h2>"
   ]
  },
  {
   "cell_type": "code",
   "execution_count": 29,
   "id": "ca513a74-065e-4e8d-8516-6cbbf90abf4f",
   "metadata": {},
   "outputs": [
    {
     "data": {
      "text/plain": [
       "Road_Surface_Conditions\n",
       "Dry                     1.841631\n",
       "Flood over 3cm. deep    1.610619\n",
       "Frost or ice            1.640006\n",
       "Snow                    1.746859\n",
       "Wet or damp             1.829161\n",
       "Name: Number_of_Vehicles, dtype: float64"
      ]
     },
     "execution_count": 29,
     "metadata": {},
     "output_type": "execute_result"
    }
   ],
   "source": [
    "avg_vehicles_surface = acci.groupby(\"Road_Surface_Conditions\")[\"Number_of_Vehicles\"].mean()\n",
    "avg_vehicles_surface"
   ]
  },
  {
   "cell_type": "markdown",
   "id": "5b51f8d1-ebf7-4e75-ac42-1c73a211385d",
   "metadata": {},
   "source": [
    "<h2>6. INSIGHTS</h2>\n",
    "<p>Wet and icy surfaces often involve more multi-vehicle accidents compared to dry roads.</p>"
   ]
  },
  {
   "cell_type": "markdown",
   "id": "2ed86d01-9419-47eb-8a2f-077523906f17",
   "metadata": {},
   "source": [
    "<h2>Question 7. Which of the urban or rural has the most number of accidents?</h2>"
   ]
  },
  {
   "cell_type": "code",
   "execution_count": 30,
   "id": "6f7f672f-65cf-425e-8c32-1b561c4e9bb6",
   "metadata": {},
   "outputs": [
    {
     "data": {
      "text/plain": [
       "Urban_or_Rural_Area\n",
       "Urban          421663\n",
       "Rural          238990\n",
       "Unallocated        11\n",
       "Name: count, dtype: int64"
      ]
     },
     "execution_count": 30,
     "metadata": {},
     "output_type": "execute_result"
    }
   ],
   "source": [
    "urban_rural_counts = acci[\"Urban_or_Rural_Area\"].value_counts()\n",
    "urban_rural_counts"
   ]
  },
  {
   "cell_type": "markdown",
   "id": "07f459f6-8aa2-442d-8bb0-256bb3225431",
   "metadata": {},
   "source": [
    "<h2>7. INSIGHTS</h2>\n",
    "<p>Most accidents occur in urban areas, but rural crashes often involve higher casualties.</p>"
   ]
  },
  {
   "cell_type": "markdown",
   "id": "ef10ae50-67ff-4583-8923-544f5f553f39",
   "metadata": {},
   "source": [
    "<h2>Question 8. Which of the weather conditions has the number of accidetnts</h2>"
   ]
  },
  {
   "cell_type": "code",
   "execution_count": 31,
   "id": "ce85a07b-8a2f-4bce-8cb0-b148dff4d4fc",
   "metadata": {},
   "outputs": [
    {
     "data": {
      "text/plain": [
       "Weather_Conditions\n",
       "Fine no high winds       520885\n",
       "Raining no high winds     79696\n",
       "Other                     17150\n",
       "Raining + high winds       9615\n",
       "Fine + high winds          8554\n",
       "Snowing no high winds      6238\n",
       "Fog or mist                3528\n",
       "Snowing + high winds        885\n",
       "Name: count, dtype: int64"
      ]
     },
     "execution_count": 31,
     "metadata": {},
     "output_type": "execute_result"
    }
   ],
   "source": [
    "weather_counts = acci[\"Weather_Conditions\"].value_counts()\n",
    "weather_counts"
   ]
  },
  {
   "cell_type": "markdown",
   "id": "8caf4f62-8436-48b9-b54c-23f9da6ef3e6",
   "metadata": {},
   "source": [
    "<h2>8. INSIGHTS</h2>\n",
    "<p>Most accidents happen in clear weather, but rain and fog increase accident severity.</p>"
   ]
  },
  {
   "cell_type": "markdown",
   "id": "9f3fc3b8-1d73-4033-9146-c841dd44dbd5",
   "metadata": {},
   "source": [
    "<h2>Question 9. Which light condition records the most accidents?</h2>"
   ]
  },
  {
   "cell_type": "code",
   "execution_count": 32,
   "id": "d9d82a26-2d22-4826-935d-17103cc23e6d",
   "metadata": {},
   "outputs": [
    {
     "data": {
      "text/plain": [
       "Light_Conditions\n",
       "Daylight                       484880\n",
       "Darkness - lights lit          129335\n",
       "Darkness - no lighting          37437\n",
       "Darkness - lighting unknown      6484\n",
       "Darkness - lights unlit          2543\n",
       "Name: count, dtype: int64"
      ]
     },
     "execution_count": 32,
     "metadata": {},
     "output_type": "execute_result"
    }
   ],
   "source": [
    "light_counts = acci[\"Light_Conditions\"].value_counts()\n",
    "light_counts"
   ]
  },
  {
   "cell_type": "markdown",
   "id": "84bcbf6f-0a58-4517-b136-a0aedb385907",
   "metadata": {},
   "source": [
    "<h2>9. INSIGHTS</h2>\n",
    "<p>Most accidents happen in daylight, but nighttime accidents are more severe.</p>"
   ]
  },
  {
   "cell_type": "markdown",
   "id": "cf068f59-eadc-4a83-863d-8ce3491c0bbc",
   "metadata": {},
   "source": [
    "<h2>Question 10. What vehicles types involved has the most number of accidents? </h2>"
   ]
  },
  {
   "cell_type": "code",
   "execution_count": 33,
   "id": "282f4bd6-f453-40a4-a222-034af171c501",
   "metadata": {},
   "outputs": [
    {
     "data": {
      "text/plain": [
       "Vehicle_Type\n",
       "Car                                      497992\n",
       "Van / Goods 3.5 tonnes mgw or under       34160\n",
       "Bus or coach (17 or more pass seats)      25878\n",
       "Motorcycle over 500cc                     25657\n",
       "Goods 7.5 tonnes mgw and over             17307\n",
       "Motorcycle 125cc and under                15269\n",
       "Taxi/Private hire car                     13294\n",
       "Motorcycle over 125cc and up to 500cc      7656\n",
       "Motorcycle 50cc and under                  7603\n",
       "Goods over 3.5t. and under 7.5t            6096\n",
       "Other vehicle                              5637\n",
       "Minibus (8 - 16 passenger seats)           1976\n",
       "Agricultural vehicle                       1947\n",
       "Pedal cycle                                 197\n",
       "Data missing or out of range                  6\n",
       "Ridden horse                                  4\n",
       "Name: count, dtype: int64"
      ]
     },
     "execution_count": 33,
     "metadata": {},
     "output_type": "execute_result"
    }
   ],
   "source": [
    "vehicle_counts = acci[\"Vehicle_Type\"].value_counts()\n",
    "vehicle_counts"
   ]
  },
  {
   "cell_type": "markdown",
   "id": "68a0e8af-5691-4f13-8a30-0c3f2d89c77c",
   "metadata": {},
   "source": [
    "<h2>10. INSIGHTS</h2>\n",
    "<p>Cars are the most frequent vehicle type in accidents.</p>"
   ]
  },
  {
   "cell_type": "markdown",
   "id": "134cf314-6efc-4e83-9481-17955b4e9132",
   "metadata": {},
   "source": [
    "<h2>QUESTION 11: What is the relationship between accident severity and light conditions?</h2>"
   ]
  },
  {
   "cell_type": "code",
   "execution_count": 34,
   "id": "96f30104-0ed5-41ca-90d7-651354f4ab41",
   "metadata": {},
   "outputs": [
    {
     "data": {
      "text/plain": [
       "Accident_Severity  Light_Conditions           \n",
       "Fatal              Darkness - lighting unknown        68\n",
       "                   Darkness - lights lit            1860\n",
       "                   Darkness - lights unlit            45\n",
       "                   Darkness - no lighting           1612\n",
       "                   Daylight                         5076\n",
       "Serious            Darkness - lighting unknown       794\n",
       "                   Darkness - lights lit           19130\n",
       "                   Darkness - lights unlit           360\n",
       "                   Darkness - no lighting           7174\n",
       "                   Daylight                        60759\n",
       "Slight             Darkness - lighting unknown      5622\n",
       "                   Darkness - lights lit          108345\n",
       "                   Darkness - lights unlit          2138\n",
       "                   Darkness - no lighting          28651\n",
       "                   Daylight                       419045\n",
       "dtype: int64"
      ]
     },
     "execution_count": 34,
     "metadata": {},
     "output_type": "execute_result"
    }
   ],
   "source": [
    "severity_light =acci.groupby([\"Accident_Severity\",\"Light_Conditions\"]).size()\n",
    "severity_light"
   ]
  },
  {
   "cell_type": "markdown",
   "id": "00ab8c0a-78e3-481a-8630-bc5a3836c0a3",
   "metadata": {},
   "source": [
    "<h2> 11. INSIGHTS</h2>\n",
    "<p>Fatal and serious accidents occur more often in darkness than slight accidents, which dominate during daylight.</p>"
   ]
  },
  {
   "cell_type": "markdown",
   "id": "569b0adb-8e06-4c48-8bd0-318a6cc5b683",
   "metadata": {},
   "source": [
    "<h2> QUESTION 12. What is the relationship between accident severity and road surface conditions?</h2>"
   ]
  },
  {
   "cell_type": "code",
   "execution_count": 35,
   "id": "09bcfb84-8fb1-4070-be30-5e907e7aaca5",
   "metadata": {},
   "outputs": [
    {
     "data": {
      "text/plain": [
       "Accident_Severity  Road_Surface_Conditions\n",
       "Fatal              Dry                          5790\n",
       "                   Flood over 3cm. deep           23\n",
       "                   Frost or ice                  193\n",
       "                   Snow                           35\n",
       "                   Wet or damp                  2620\n",
       "Serious            Dry                         61708\n",
       "                   Flood over 3cm. deep          152\n",
       "                   Frost or ice                 2007\n",
       "                   Snow                          565\n",
       "                   Wet or damp                 23785\n",
       "Slight             Dry                        381049\n",
       "                   Flood over 3cm. deep          842\n",
       "                   Frost or ice                16317\n",
       "                   Snow                         5290\n",
       "                   Wet or damp                160303\n",
       "dtype: int64"
      ]
     },
     "execution_count": 35,
     "metadata": {},
     "output_type": "execute_result"
    }
   ],
   "source": [
    "severity_surface = acci.groupby([\"Accident_Severity\",\"Road_Surface_Conditions\"]).size()\n",
    "severity_surface"
   ]
  },
  {
   "cell_type": "markdown",
   "id": "3b7a4e4b-0a99-4f0f-bb1c-9ba7db0f2611",
   "metadata": {},
   "source": [
    "<h2>12. INSIGHTS </h2>\n",
    "<p>Slight accidents dominate dry roads, but fatal accidents are more frequent (proportionally) on wet, icy, or snowy surfaces.</p>"
   ]
  },
  {
   "cell_type": "markdown",
   "id": "f266cd39-969d-4cdd-ab10-8e57a83a696e",
   "metadata": {},
   "source": [
    "<h2>QUESTION 13. What is the Correlation between number of vehicles and casualties?</h2>"
   ]
  },
  {
   "cell_type": "code",
   "execution_count": 36,
   "id": "4a72fe7f-9a77-486c-8a99-67a0b4b55afe",
   "metadata": {},
   "outputs": [
    {
     "data": {
      "text/html": [
       "<div>\n",
       "<style scoped>\n",
       "    .dataframe tbody tr th:only-of-type {\n",
       "        vertical-align: middle;\n",
       "    }\n",
       "\n",
       "    .dataframe tbody tr th {\n",
       "        vertical-align: top;\n",
       "    }\n",
       "\n",
       "    .dataframe thead th {\n",
       "        text-align: right;\n",
       "    }\n",
       "</style>\n",
       "<table border=\"1\" class=\"dataframe\">\n",
       "  <thead>\n",
       "    <tr style=\"text-align: right;\">\n",
       "      <th></th>\n",
       "      <th>Number_of_Vehicles</th>\n",
       "      <th>Number_of_Casualties</th>\n",
       "    </tr>\n",
       "  </thead>\n",
       "  <tbody>\n",
       "    <tr>\n",
       "      <th>Number_of_Vehicles</th>\n",
       "      <td>1.000000</td>\n",
       "      <td>0.228889</td>\n",
       "    </tr>\n",
       "    <tr>\n",
       "      <th>Number_of_Casualties</th>\n",
       "      <td>0.228889</td>\n",
       "      <td>1.000000</td>\n",
       "    </tr>\n",
       "  </tbody>\n",
       "</table>\n",
       "</div>"
      ],
      "text/plain": [
       "                      Number_of_Vehicles  Number_of_Casualties\n",
       "Number_of_Vehicles              1.000000              0.228889\n",
       "Number_of_Casualties            0.228889              1.000000"
      ]
     },
     "execution_count": 36,
     "metadata": {},
     "output_type": "execute_result"
    }
   ],
   "source": [
    "corr = acci[[\"Number_of_Vehicles\", \"Number_of_Casualties\"]].corr()\n",
    "corr"
   ]
  },
  {
   "cell_type": "markdown",
   "id": "ffcf4584-b18a-4963-a823-11626e78ee2f",
   "metadata": {},
   "source": [
    "<h2>13. INSIGHTS</h2>\n",
    "<p>A positive correlation means more vehicles usually result in more casualties.</p>"
   ]
  },
  {
   "cell_type": "markdown",
   "id": "39c42481-e4d5-42ea-b383-2bd99819ca54",
   "metadata": {},
   "source": [
    "<h2>QUESTION 14. Which accident severity has the highest average number of vehicles involved?</h2>"
   ]
  },
  {
   "cell_type": "code",
   "execution_count": 37,
   "id": "16afac26-62f0-4812-9012-a6592f758235",
   "metadata": {},
   "outputs": [
    {
     "data": {
      "text/plain": [
       "Accident_Severity\n",
       "Fatal      1.786976\n",
       "Serious    1.678327\n",
       "Slight     1.855864\n",
       "Name: Number_of_Vehicles, dtype: float64"
      ]
     },
     "execution_count": 37,
     "metadata": {},
     "output_type": "execute_result"
    }
   ],
   "source": [
    "avg_vehicles_by_severity = acci.groupby(\"Accident_Severity\")[\"Number_of_Vehicles\"].mean()\n",
    "avg_vehicles_by_severity"
   ]
  },
  {
   "cell_type": "markdown",
   "id": "ed4d2aa0-d6e4-40e0-8193-0af0ff360904",
   "metadata": {},
   "source": [
    "<h2>14. INSIGHT</h2>\n",
    "<p>Serious accidents tend to involve more vehicles compared to slight ones</p>\n"
   ]
  },
  {
   "cell_type": "markdown",
   "id": "ec0c2f90-291d-44f4-8d17-3a48baca251f",
   "metadata": {},
   "source": [
    "<h2>QUESTION 15. WHICH OF THE ROAD TYPES HAS THE MOSE COUNTS OF ACCIDENTS</h2>"
   ]
  },
  {
   "cell_type": "code",
   "execution_count": 38,
   "id": "3d904e1e-281d-40d6-a432-553f2d2f4a6f",
   "metadata": {},
   "outputs": [
    {
     "data": {
      "text/plain": [
       "Road_Type\n",
       "Single carriageway    492143\n",
       "Dual carriageway       99424\n",
       "Roundabout             43992\n",
       "One way street         13559\n",
       "Slip road               7041\n",
       "Name: count, dtype: int64"
      ]
     },
     "execution_count": 38,
     "metadata": {},
     "output_type": "execute_result"
    }
   ],
   "source": [
    "road_type_counts = acci[\"Road_Type\"].value_counts()\n",
    "road_type_counts"
   ]
  },
  {
   "cell_type": "markdown",
   "id": "456617db-74cb-45ec-87d4-5e66b468a3e5",
   "metadata": {},
   "source": [
    "<h2>15. INSIGHTS</h2>\n",
    "<p>Most accidents occur on single carriageways, followed by dual carriageways.</p>"
   ]
  },
  {
   "cell_type": "markdown",
   "id": "76733159-c670-4ec4-b156-891c1c0bb324",
   "metadata": {},
   "source": [
    "<h2>QUESTION 16. Which weather condition has the highest proportion of fatal accidents?</h2>"
   ]
  },
  {
   "cell_type": "code",
   "execution_count": 39,
   "id": "9d40d8af-321c-4b37-b9a3-f3b2c8a9ef2c",
   "metadata": {},
   "outputs": [
    {
     "data": {
      "text/plain": [
       "Weather_Conditions\n",
       "Fine + high winds        0.020458\n",
       "Fine no high winds       0.013631\n",
       "Fog or mist              0.023243\n",
       "Other                    0.009621\n",
       "Raining + high winds     0.015081\n",
       "Raining no high winds    0.010640\n",
       "Snowing + high winds     0.003390\n",
       "Snowing no high winds    0.005771\n",
       "dtype: float64"
      ]
     },
     "execution_count": 39,
     "metadata": {},
     "output_type": "execute_result"
    }
   ],
   "source": [
    "fatal_rate_weather = acci[acci[\"Accident_Severity\"]==\"Fatal\"].groupby(\"Weather_Conditions\").size() / acci.groupby(\"Weather_Conditions\").size()\n",
    "fatal_rate_weather"
   ]
  },
  {
   "cell_type": "markdown",
   "id": "255773da-773a-458b-99c3-2447c48f6465",
   "metadata": {},
   "source": [
    "<h2>16. INSIGHTS</h2>\n",
    "<p>\n",
    "Although most accidents happen in clear weather, the proportion of fatal crashes is higher in fog/rain conditions.</p>"
   ]
  },
  {
   "cell_type": "markdown",
   "id": "af7e4a0e-70e8-4129-8ff8-9b74bb9583dc",
   "metadata": {},
   "source": [
    "<h2>QUESTION 17. What is the average number of casualties per accident severity by area type (urban/rural) </h2>"
   ]
  },
  {
   "cell_type": "code",
   "execution_count": 40,
   "id": "34ef2930-41cf-479a-a8d7-6bce8c9780a7",
   "metadata": {},
   "outputs": [
    {
     "data": {
      "text/plain": [
       "Urban_or_Rural_Area  Accident_Severity\n",
       "Rural                Fatal                2.094804\n",
       "                     Serious              1.682301\n",
       "                     Slight               1.422972\n",
       "Unallocated          Serious              1.000000\n",
       "                     Slight               1.200000\n",
       "Urban                Fatal                1.552288\n",
       "                     Serious              1.309693\n",
       "                     Slight               1.282586\n",
       "Name: Number_of_Casualties, dtype: float64"
      ]
     },
     "execution_count": 40,
     "metadata": {},
     "output_type": "execute_result"
    }
   ],
   "source": [
    "avg_casualties_severity_area = acci.groupby([\"Urban_or_Rural_Area\",\"Accident_Severity\"])[\"Number_of_Casualties\"].mean()\n",
    "avg_casualties_severity_area"
   ]
  },
  {
   "cell_type": "markdown",
   "id": "7c5fa3ac-fb7d-4f7c-95cf-f4d13f458e2e",
   "metadata": {},
   "source": [
    "<h2>17. INSIGHTS</h2>\n",
    "<p> it shows that fatal rural accidents tend to involve more casualties compared to fatal urban ones.</p>"
   ]
  },
  {
   "cell_type": "markdown",
   "id": "978e0376-4c18-459c-b1b5-92512d851ccb",
   "metadata": {},
   "source": [
    "<h2> QUESTION 18. Which District with the most recorded accidents\n",
    "</h2>"
   ]
  },
  {
   "cell_type": "code",
   "execution_count": 41,
   "id": "7214554b-2181-4b49-af1a-2def8e4110ad",
   "metadata": {},
   "outputs": [
    {
     "data": {
      "text/plain": [
       "District Area\n",
       "Birmingham            13491\n",
       "Leeds                  8898\n",
       "Manchester             6720\n",
       "Bradford               6212\n",
       "Sheffield              5710\n",
       "                      ...  \n",
       "Berwick-upon-Tweed      153\n",
       "Teesdale                142\n",
       "Shetland Islands        133\n",
       "Orkney Islands          117\n",
       "Clackmannanshire         91\n",
       "Name: count, Length: 422, dtype: int64"
      ]
     },
     "execution_count": 41,
     "metadata": {},
     "output_type": "execute_result"
    }
   ],
   "source": [
    "most_accidents_district = acci[\"District Area\"].value_counts()\n",
    "most_accidents_district"
   ]
  },
  {
   "cell_type": "markdown",
   "id": "c9e4bb17-8520-4690-acd6-f38c0a83d762",
   "metadata": {},
   "source": [
    "<h2>18. INSIGHTS </h2>\n",
    "<p>It shows that the Birmingham the most record of accidents</p>"
   ]
  },
  {
   "cell_type": "markdown",
   "id": "c30574d4-7dfe-43fe-8743-91d359c99a64",
   "metadata": {},
   "source": [
    "<h2>QUESTION 19. What is the most common road surface condition in fatal accidents</h2>"
   ]
  },
  {
   "cell_type": "code",
   "execution_count": 42,
   "id": "9e352ccc-c5be-4bfc-afcf-2dddc46498fa",
   "metadata": {},
   "outputs": [
    {
     "data": {
      "text/plain": [
       "Road_Surface_Conditions\n",
       "Dry                     5790\n",
       "Wet or damp             2620\n",
       "Frost or ice             193\n",
       "Snow                      35\n",
       "Flood over 3cm. deep      23\n",
       "Name: count, dtype: int64"
      ]
     },
     "execution_count": 42,
     "metadata": {},
     "output_type": "execute_result"
    }
   ],
   "source": [
    "fatal_surface = acci[acci[\"Accident_Severity\"]==\"Fatal\"][\"Road_Surface_Conditions\"].value_counts()\n",
    "fatal_surface"
   ]
  },
  {
   "cell_type": "markdown",
   "id": "8243f598-ec78-4189-9d3b-c3468baa3750",
   "metadata": {},
   "source": [
    "<h2>19. INSIGHTS </h2>\n",
    "<p>It shows that the most common road surface to have a fatal accidents is DRY surface.</p>"
   ]
  },
  {
   "cell_type": "markdown",
   "id": "4558390f-ab90-43ec-9eda-2a4817164d8f",
   "metadata": {},
   "source": [
    "<h2>QUESTION 20. Which district has the lowest number of recorded accidents?</h2>"
   ]
  },
  {
   "cell_type": "code",
   "execution_count": 43,
   "id": "786fec36-abbe-421e-aa1c-f91dfb9ffa88",
   "metadata": {},
   "outputs": [
    {
     "data": {
      "text/plain": [
       "District Area\n",
       "Birmingham            13491\n",
       "Leeds                  8898\n",
       "Manchester             6720\n",
       "Bradford               6212\n",
       "Sheffield              5710\n",
       "                      ...  \n",
       "Berwick-upon-Tweed      153\n",
       "Teesdale                142\n",
       "Shetland Islands        133\n",
       "Orkney Islands          117\n",
       "Clackmannanshire         91\n",
       "Name: count, Length: 422, dtype: int64"
      ]
     },
     "execution_count": 43,
     "metadata": {},
     "output_type": "execute_result"
    }
   ],
   "source": [
    "lowest_district = acci[\"District Area\"].value_counts()\n",
    "lowest_district"
   ]
  },
  {
   "cell_type": "markdown",
   "id": "34cb60c9-f271-45bf-9cb4-8527439d85b3",
   "metadata": {},
   "source": [
    "<h2>20. INSIGHTS</h2>\n",
    "<p>It shows that the Clackmannanshire has the lowest record of accidents </p>"
   ]
  },
  {
   "cell_type": "markdown",
   "id": "5812c3bd-3413-4a3c-b83e-062675a24309",
   "metadata": {},
   "source": [
    "<h2>QUESTION 21. Which year had the most accidents?</h2>"
   ]
  },
  {
   "cell_type": "code",
   "execution_count": 44,
   "id": "433b9c80-a077-4c40-bf0d-cdd0e04453b8",
   "metadata": {},
   "outputs": [
    {
     "data": {
      "image/png": "[encoded data removed]",
      "text/plain": [
       "<Figure size 640x480 with 1 Axes>"
      ]
     },
     "metadata": {},
     "output_type": "display_data"
    }
   ],
   "source": [
    "accidents_per_year = acci[\"Accident Date\"].dt.year.value_counts().sort_index()\n",
    "accidents_per_year.plot(kind=\"bar\", color=\"teal\", edgecolor=\"black\")\n",
    "plt.title(\"Accidents per Year\")\n",
    "plt.xlabel(\"Year\")\n",
    "plt.ylabel(\"Number of Accidents\")\n",
    "plt.show()"
   ]
  },
  {
   "cell_type": "markdown",
   "id": "a385da54-43c3-4f43-8084-d50d75a3b906",
   "metadata": {},
   "source": [
    "<h2>21 INSIGHTS.</h2>\n",
    "<p>It shows that the most count year accidents is 2019 and the least number of accidents is on 2022</p>"
   ]
  },
  {
   "cell_type": "markdown",
   "id": "94a6a1a8-ee73-45c6-ae71-99c91e3f2b7f",
   "metadata": {},
   "source": [
    "<h2>QUESTION 22. Which month records the most accidents?</h2>"
   ]
  },
  {
   "cell_type": "code",
   "execution_count": 45,
   "id": "aed5e964-6aa0-40fc-b891-44658827b358",
   "metadata": {},
   "outputs": [
    {
     "data": {
      "image/png": "[encoded data removed]",
      "text/plain": [
       "<Figure size 640x480 with 1 Axes>"
      ]
     },
     "metadata": {},
     "output_type": "display_data"
    }
   ],
   "source": [
    "accidents_per_month = acci[\"Accident Date\"].dt.month.value_counts().sort_index()\n",
    "accidents_per_month.plot(kind=\"line\", marker=\"o\", color=\"blue\")\n",
    "plt.title(\"Accidents per Month\")\n",
    "plt.xlabel(\"Month\")\n",
    "plt.ylabel(\"Number of Accidents\")\n",
    "plt.show()"
   ]
  },
  {
   "cell_type": "markdown",
   "id": "35fbacba-18f4-4046-ba85-5dc27f5c8435",
   "metadata": {},
   "source": [
    "<h2>22. INSIGHTS</h2>\n",
    "<p>In this graph, it shows most count of accidents is 12 means it's december, and the least number of count of accidents is the 2 which is Febraury</p>"
   ]
  },
  {
   "cell_type": "markdown",
   "id": "45bf7349-f237-40f4-9940-15682ba4d5d1",
   "metadata": {},
   "source": [
    "<h2>Question 23. At what time of day do most accidents occur?</h2>"
   ]
  },
  {
   "cell_type": "code",
   "execution_count": 46,
   "id": "cba33aba-ce21-4885-a33b-d5caa76f84d8",
   "metadata": {},
   "outputs": [
    {
     "data": {
      "image/png": "[encoded data removed]",
      "text/plain": [
       "<Figure size 640x480 with 1 Axes>"
      ]
     },
     "metadata": {},
     "output_type": "display_data"
    }
   ],
   "source": [
    "accidents_per_hour = acci[\"Accident Date\"].dt.hour.value_counts().sort_index()\n",
    "accidents_per_hour.plot(kind=\"line\", marker=\"o\", color=\"red\")\n",
    "plt.title(\"Accidents by Hour of the Day\")\n",
    "plt.xlabel(\"Hour\")\n",
    "plt.ylabel(\"Number of Accidents\")\n",
    "plt.show()"
   ]
  },
  {
   "cell_type": "markdown",
   "id": "bf7aa257-a549-4ead-a312-04cbbb1e414a",
   "metadata": {},
   "source": [
    "<h2>23. INSIGHTS</h2>\n",
    "<p>Accidents peak during rush hours (8–9 AM, 5–7 PM) when traffic volume is highest.</p>"
   ]
  },
  {
   "cell_type": "markdown",
   "id": "9872ec36-8f84-4213-a032-844e994c9340",
   "metadata": {},
   "source": [
    "<h2>Question 24. Most common accident severity by light condition </h2>"
   ]
  },
  {
   "cell_type": "code",
   "execution_count": 47,
   "id": "bc7be3c2-56ac-4cd0-892d-480a804470f2",
   "metadata": {},
   "outputs": [
    {
     "data": {
      "image/png": "[encoded data removed]",
      "text/plain": [
       "<Figure size 800x500 with 1 Axes>"
      ]
     },
     "metadata": {},
     "output_type": "display_data"
    }
   ],
   "source": [
    "severity_light = acci.groupby(\"Light_Conditions\")[\"Accident_Severity\"].value_counts().unstack().fillna(0)\n",
    "severity_light.plot(kind=\"bar\", stacked=True, figsize=(8,5))\n",
    "plt.title(\"Accident Severity by Light Condition\")\n",
    "plt.xlabel(\"Light Condition\")\n",
    "plt.ylabel(\"Number of Accidents\")\n",
    "plt.xticks(rotation=30)\n",
    "plt.legend(title=\"Severity\")\n",
    "plt.show()"
   ]
  },
  {
   "cell_type": "markdown",
   "id": "29e59a5e-2be2-48d3-bcf7-83825d195147",
   "metadata": {},
   "source": [
    "<h2>24 INSIGHTS. </h2>\n",
    "<p>Serious/fatal accidents may be more frequent at night compared to daylight.</p>"
   ]
  },
  {
   "cell_type": "markdown",
   "id": "8cadeadf-18e4-454c-bc2d-04156f975868",
   "metadata": {},
   "source": [
    "<h2>Question 25. What is most count of accidents by Day of the Week  </h2>"
   ]
  },
  {
   "cell_type": "code",
   "execution_count": 48,
   "id": "798e15a3-cbdf-48b4-92fe-c1b894b10c95",
   "metadata": {},
   "outputs": [
    {
     "data": {
      "image/png": "[encoded data removed]",
      "text/plain": [
       "<Figure size 640x480 with 1 Axes>"
      ]
     },
     "metadata": {},
     "output_type": "display_data"
    }
   ],
   "source": [
    "day_map = {\n",
    "    1: \"Monday\", 2: \"Tuesday\", 3: \"Wednesday\",\n",
    "    4: \"Thursday\", 5: \"Friday\", 6: \"Saturday\", 7: \"Sunday\"\n",
    "}\n",
    "\n",
    "day_counts = acci[\"DayOfWeek\"].map(day_map).value_counts()\n",
    "\n",
    "plt.pie(day_counts, labels=day_counts.index, autopct=\"%1.1f%%\", startangle=90)\n",
    "plt.title(\"Accidents by Day of the Week\")\n",
    "plt.show()"
   ]
  },
  {
   "cell_type": "markdown",
   "id": "b1e8ec96-334c-4ed2-8464-811aba1b91a2",
   "metadata": {},
   "source": [
    "<h2>25 INSIGHTS.</h2>\n",
    "<p>This will clearly show which days Friday evenings or weekends contribute most to accidents, instead of just numbers.</p>"
   ]
  },
  {
   "cell_type": "code",
   "execution_count": 59,
   "id": "31afae4f-25c7-4bac-b5e7-80022833ea38",
   "metadata": {},
   "outputs": [
    {
     "data": {
      "text/plain": [
       "<bound method Series.unique of 0         Kensington and Chelsea\n",
       "1         Kensington and Chelsea\n",
       "2         Kensington and Chelsea\n",
       "3         Kensington and Chelsea\n",
       "4         Kensington and Chelsea\n",
       "                   ...          \n",
       "660674                  Highland\n",
       "660675                  Highland\n",
       "660676                  Highland\n",
       "660677                  Highland\n",
       "660678                  Highland\n",
       "Name: District Area, Length: 660679, dtype: object>"
      ]
     },
     "execution_count": 59,
     "metadata": {},
     "output_type": "execute_result"
    }
   ],
   "source": [
    "array(['Kensington and Chelsea', 'Westminster', 'Richmond upon Thames',\n",
    "       'Hammersmith and Fulham', 'Hounslow', 'Tower Hamlets',\n",
    "       'City of London', 'Southwark', 'Camden', 'Hackney', 'Islington',\n",
    "       'Barnet', 'Brent', 'Haringey', 'Merton', 'Ealing', 'Enfield',\n",
    "       'Greenwich', 'Newham', 'London Airport (Heathrow)', 'Hillingdon',\n",
    "       'Waltham Forest', 'Redbridge', 'Barking and Dagenham', 'Bromley',\n",
    "       'Havering', 'Croydon', 'Lambeth', 'Wandsworth', 'Sutton', 'Bexley',\n",
    "       'Lewisham', 'Harrow', 'Kingston upon Thames', 'Barrow-in-Furness',\n",
    "       'South Lakeland', 'Carlisle', 'Eden', 'Allerdale', 'Copeland',\n",
    "       'Fylde', 'Blackpool', 'Wyre', 'Lancaster', 'Chorley',\n",
    "       'West Lancashire', 'South Ribble', 'Preston',\n",
    "       'Blackburn with Darwen', 'Hyndburn', 'Ribble Valley', 'Burnley',\n",
    "       'Pendle', 'Rossendale', 'Wirral', 'Liverpool', 'Sefton',\n",
    "       'Knowsley', 'St. Helens', 'Manchester', 'Salford', 'Tameside',\n",
    "       'Stockport', 'Bolton', 'Wigan', 'Trafford', 'Bury', 'Rochdale',\n",
    "       'Oldham', 'Chester', 'Vale Royal', 'Halton', 'Warrington',\n",
    "       'Crewe and ntwich', 'Ellesmere Port and Neston', 'Congleton',\n",
    "       'Macclesfield', 'Crewe and Nantwich', 'Blyth Valley', 'Sunderland',\n",
    "       'Gateshead', 'North Tyneside', 'Tynedale', 'Berwick-upon-Tweed',\n",
    "       'Newcastle upon Tyne', 'Castle Morpeth', 'South Tyneside',\n",
    "       'Wansbeck', 'Alnwick', 'Wear Valley', 'Sedgefield', 'Durham',\n",
    "       'Easington', 'Chester-le-Street', 'Derwentside', 'Teesdale',\n",
    "       'Darlington', 'Craven', 'Hambleton', 'Richmondshire', 'York',\n",
    "       'Harrogate', 'Selby', 'Scarborough', 'Ryedale', 'Kirklees',\n",
    "       'Leeds', 'Wakefield', 'Bradford', 'Calderdale', 'Doncaster',\n",
    "       'Barnsley', 'Sheffield', 'Rotherham', 'North East Lincolnshire',\n",
    "       'North Lincolnshire', 'East Riding of Yorkshire',\n",
    "       'Kingston upon Hull, City of', 'Redcar and Cleveland',\n",
    "       'Hartlepool', 'Middlesbrough', 'Stockton-on-Tees', 'Birmingham',\n",
    "       'Wolverhampton', 'Walsall', 'Dudley', 'Sandwell', 'Solihull',\n",
    "       'Coventry', 'Newcastle-under-Lyme', 'Stafford',\n",
    "       'East Staffordshire', 'South Staffordshire', 'Lichfield',\n",
    "       'Stoke-on-Trent', 'Cannock Chase', 'Tamworth',\n",
    "       'Staffordshire Moorlands', 'Malvern Hills', 'Worcester',\n",
    "       'Wychavon', 'Wyre Forest', 'Redditch', 'Bromsgrove',\n",
    "       'Herefordshire, County of', 'Telford and Wrekin',\n",
    "       'South Shropshire', 'Bridgnorth', 'Shrewsbury and Atcham',\n",
    "       'North Shropshire', 'Oswestry', 'Warwick', 'Stratford-upon-Avon',\n",
    "       'Rugby', 'North Warwickshire', 'Nuneaton and Bedworth',\n",
    "       'Amber Valley', 'Erewash', 'Bolsover', 'High Peak',\n",
    "       'Derbyshire Dales', 'North East Derbyshire', 'Chesterfield',\n",
    "       'Derby', 'South Derbyshire', 'Ashfield', 'Mansfield',\n",
    "       'Newark and Sherwood', 'Bassetlaw', 'Gedling', 'Rushcliffe',\n",
    "       'Nottingham', 'Broxtowe', 'South Holland', 'South Kesteven',\n",
    "       'North Kesteven', 'East Lindsey', 'Boston', 'West Lindsey',\n",
    "       'Lincoln', 'Hinckley and Bosworth', 'Harborough', 'Leicester',\n",
    "       'Rutland', 'Charnwood', 'Melton', 'North West Leicestershire',\n",
    "       'Blaby', 'Oadby and Wigston', 'South Northamptonshire',\n",
    "       'Northampton', 'Kettering', 'Corby', 'Daventry',\n",
    "       'East Northamptonshire', 'Wellingborough', 'South Cambridgeshire',\n",
    "       'Fenland', 'Huntingdonshire', 'Peterborough',\n",
    "       'East Cambridgeshire', 'Cambridge', \"King's Lynn and West Norfolk\",\n",
    "       'Norwich', 'Breckland', 'South Norfolk', 'Broadland',\n",
    "       'Great Yarmouth', 'North Norfolk', 'St. Edmundsbury', 'Babergh',\n",
    "       'Mid Suffolk', 'Forest Heath', 'Suffolk Coastal', 'Ipswich',\n",
    "       'Waveney', 'Luton', 'Mid Bedfordshire', 'Bedford',\n",
    "       'South Bedfordshire', 'East Hertfordshire', 'North Hertfordshire',\n",
    "       'Welwyn Hatfield', 'St. Albans', 'Hertsmere', 'Three Rivers',\n",
    "       'Watford', 'Dacorum', 'Broxbourne', 'Stevege', 'Stevenage',\n",
    "       'Epping Forest', 'Brentwood', 'Castle Point', 'Uttlesford',\n",
    "       'Chelmsford', 'Basildon', 'Tendring', 'Colchester', 'Thurrock',\n",
    "       'Braintree', 'Rochford', 'Maldon', 'Southend-on-Sea', 'Harlow',\n",
    "       'Aylesbury Vale', 'Wycombe', 'South Bucks', 'Chiltern', 'Slough',\n",
    "       'Windsor and Maidenhead', 'South Oxfordshire', 'Milton Keynes',\n",
    "       'Cherwell', 'Vale of White Horse', 'West Oxfordshire', 'Oxford',\n",
    "       'Reading', 'West Berkshire', 'Wokingham', 'Bracknell Forest',\n",
    "       'Eastleigh', 'Test Valley', 'Portsmouth', 'Winchester',\n",
    "       'Basingstoke and Deane', 'Southampton', 'Fareham', 'Hart',\n",
    "       'Gosport', 'Havant', 'Isle of Wight', 'East Hampshire', 'Rushmoor',\n",
    "       'New Forest', 'Elmbridge', 'Mole Valley', 'Guildford',\n",
    "       'Spelthorne', 'Epsom and Ewell', 'Runnymede', 'Woking',\n",
    "       'Reigate and Banstead', 'Surrey Heath', 'Waverley', 'Tandridge',\n",
    "       'Medway', 'Thanet', 'Shepway', 'Ashford', 'Maidstone', 'Dover',\n",
    "       'Tunbridge Wells', 'Canterbury', 'Tonbridge and Malling', 'Swale',\n",
    "       'Dartford', 'Sevenoaks', 'Gravesham', 'Brighton and Hove',\n",
    "       'Chichester', 'Rother', 'Lewes', 'Wealden', 'Eastbourne',\n",
    "       'Hastings', 'Crawley', 'Horsham', 'Mid Sussex', 'Arun', 'Adur',\n",
    "       'Worthing', 'Kerrier', 'Restormel', 'Carrick', 'Penwith',\n",
    "       'North Cornwall', 'West Devon', 'Torridge', 'Caradon',\n",
    "       'North Devon', 'Mid Devon', 'Exeter', 'East Devon', 'Teignbridge',\n",
    "       'Plymouth', 'South Hams', 'Torbay', 'Bristol, City of',\n",
    "       'South Somerset', 'Sedgemoor', 'Mendip', 'Taunton Deane',\n",
    "       'South Gloucestershire', 'North Somerset',\n",
    "       'Bath and North East Somerset', 'West Somerset', 'Stroud',\n",
    "       'Tewkesbury', 'Gloucester', 'Cotswold', 'Cheltenham',\n",
    "       'Forest of Dean', 'Salisbury', 'Kennet', 'West Wiltshire',\n",
    "       'North Wiltshire', 'Swindon', 'Bournemouth', 'Poole',\n",
    "       'East Dorset', 'West Dorset', 'Weymouth and Portland',\n",
    "       'Christchurch', 'Purbeck', 'North Dorset', 'Isle of Anglesey',\n",
    "       'Conwy', 'Denbighshire', 'Flintshire', 'Wrexham', 'Gwynedd',\n",
    "       'Monmouthshire', 'Newport', 'Caerphilly', 'Torfaen', 'Blaeu Gwent',\n",
    "       'Blaenau Gwent', 'Merthyr Tydfil', 'The Vale of Glamorgan',\n",
    "       'Cardiff', 'Rhondda, Cynon, Taff', 'Swansea', 'Bridgend',\n",
    "       'Neath Port Talbot', 'Carmarthenshire', 'Ceredigion',\n",
    "       'Pembrokeshire', 'Powys', 'Highland', 'Western Isles',\n",
    "       'Orkney Islands', 'Shetland Islands', 'Aberdeenshire', 'Moray',\n",
    "       'Aberdeen City', 'Dundee City', 'Angus', 'Perth and Kinross',\n",
    "       'Fife', 'East Lothian', 'Midlothian', 'Scottish Borders',\n",
    "       'Edinburgh, City of', 'West Lothian', 'Falkirk',\n",
    "       'Clackmannanshire', 'Stirling', 'Clackmannshire', 'Glasgow City',\n",
    "       'East Dunbartonshire', 'North Larkshire', 'North Lanarkshire',\n",
    "       'Renfrewshire', 'East Renfrewshire', 'East Ayrshire',\n",
    "       'South Larkshire', 'Inverclyde', 'West Dunbartonshire',\n",
    "       'Argyll and Bute', 'South Lanarkshire', 'North Ayrshire',\n",
    "       'South Ayrshire', 'Dumfries and Galloway', 'Cheshire East',\n",
    "       'Cheshire West and Chester', 'Northumberland', 'County Durham',\n",
    "       'Shropshire', 'Central Bedfordshire', 'Cornwall', 'Wiltshire'],\n"
   ]
  },
  {
   "cell_type": "markdown",
   "id": "18e09cea-4df6-445f-93d5-c5cba96a4000",
   "metadata": {},
   "source": [
    "<h2>Stafford Accidents per year</h2>"
   ]
  },
  {
   "cell_type": "code",
   "execution_count": 63,
   "id": "519b5245-622a-4c62-a06f-746045213de4",
   "metadata": {},
   "outputs": [],
   "source": [
    "london_df = acci[acci['District Area'] == 'Stafford']"
   ]
  },
  {
   "cell_type": "code",
   "execution_count": 65,
   "id": "ed84ba94-1b95-482f-b456-ce0ed2fc7c9d",
   "metadata": {},
   "outputs": [
    {
     "data": {
      "image/png": "[encoded data removed]",
      "text/plain": [
       "<Figure size 640x480 with 1 Axes>"
      ]
     },
     "metadata": {},
     "output_type": "display_data"
    }
   ],
   "source": [
    "accidents_per_year = london_df['Year'].value_counts().sort_index()\n",
    "accidents_per_month = london_df['Month'].value_counts().sort_index()\n",
    "accidents_per_day = london_df['DayOfWeek'].value_counts().sort_index()\n",
    "\n",
    "\n",
    "#PER YEAR \n",
    "accidents_per_year.plot(kind='bar')\n",
    "plt.title('City of Stafford accidents per Year')\n",
    "plt.xlabel('Year')\n",
    "plt.ylabel('Number of Accidents')\n",
    "plt.show()"
   ]
  },
  {
   "cell_type": "markdown",
   "id": "2d1c0c8a-7215-4b58-84b1-597fd4793dc0",
   "metadata": {},
   "source": [
    "<h2>Monthly Road Accidents in Luton city of London by Year (2019-2022)</h2>"
   ]
  },
  {
   "cell_type": "code",
   "execution_count": 67,
   "id": "b63a8291-094a-4ad4-aee2-f123da5418fa",
   "metadata": {},
   "outputs": [],
   "source": [
    "london_df = acci[acci['District Area'] == 'Luton']"
   ]
  },
  {
   "cell_type": "code",
   "execution_count": 71,
   "id": "cc0faa75-5204-42f2-b5d4-92d370f23aac",
   "metadata": {},
   "outputs": [
    {
     "data": {
      "image/png": "[encoded data removed]",
      "text/plain": [
       "<Figure size 1000x500 with 1 Axes>"
      ]
     },
     "metadata": {},
     "output_type": "display_data"
    }
   ],
   "source": [
    "monthly_Luton = london_df.groupby(['Year', 'Month']).size()\n",
    "\n",
    "monthly_Luton = monthly_Luton.unstack(level=0)\n",
    "\n",
    "monthly_Luton.plot(\n",
    "    marker='o', \n",
    "    figsize=(10, 5),\n",
    "    title='Monthly Road Accidents in Luton city of London by Year (2019-2022)'\n",
    ")\n",
    "plt.xticks(range(1, 13), ['Jan','Feb','Mar','Apr','May','Jun','Jul','Aug','Sep','Oct','Nov','Dec'])\n",
    "plt.legend(title='Yearly Accident Comparison', bbox_to_anchor = (1.05,1), loc='upper left')\n",
    "plt.grid(alpha=0.3)\n",
    "plt.show()"
   ]
  },
  {
   "cell_type": "markdown",
   "id": "98bdbe56-5038-4ce6-87dd-453c58df1239",
   "metadata": {},
   "source": [
    "<h2>Accidents by day of the week of Plymouth city of london</h2>"
   ]
  },
  {
   "cell_type": "code",
   "execution_count": 73,
   "id": "e8c45b4c-2f73-45c3-980e-bc06278c08ec",
   "metadata": {},
   "outputs": [],
   "source": [
    "london_df = acci[acci['District Area'] == 'Plymouth']"
   ]
  },
  {
   "cell_type": "code",
   "execution_count": 76,
   "id": "ddb201b9-9fce-4647-b0f9-84bae3fb7faf",
   "metadata": {},
   "outputs": [
    {
     "data": {
      "image/png": "[encoded data removed]",
      "text/plain": [
       "<Figure size 640x480 with 1 Axes>"
      ]
     },
     "metadata": {},
     "output_type": "display_data"
    }
   ],
   "source": [
    "day_map = {\n",
    "    1: \"Monday\", 2: \"Tuesday\", 3: \"Wednesday\",\n",
    "    4: \"Thursday\", 5: \"Friday\", 6: \"Saturday\", 7: \"Sunday\"\n",
    "}\n",
    "\n",
    "day_counts = london_df[\"DayOfWeek\"].map(day_map).value_counts()\n",
    "\n",
    "plt.pie(day_counts, labels=day_counts.index, autopct=\"%1.1f%%\", startangle=90)\n",
    "plt.title(\"Accidents by day of the week of Plymouth city of london\")\n",
    "plt.show()"
   ]
  },
  {
   "cell_type": "code",
   "execution_count": 78,
   "id": "1ddf5116-0185-4a5f-8020-015c72108405",
   "metadata": {},
   "outputs": [
    {
     "ename": "ImportError",
     "evalue": "cannot import name 'Heatmap' from 'folium.plugins' (C:\\Users\\LAB4-StudentPC39\\AppData\\Local\\Programs\\Python\\Python313\\Lib\\site-packages\\folium\\plugins\\__init__.py)",
     "output_type": "error",
     "traceback": [
      "\u001b[1;31m---------------------------------------------------------------------------\u001b[0m",
      "\u001b[1;31mImportError\u001b[0m                               Traceback (most recent call last)",
      "Cell \u001b[1;32mIn[78], line 2\u001b[0m\n\u001b[0;32m      1\u001b[0m \u001b[38;5;28;01mimport\u001b[39;00m\u001b[38;5;250m \u001b[39m\u001b[38;5;21;01mfolium\u001b[39;00m \n\u001b[1;32m----> 2\u001b[0m \u001b[38;5;28;01mfrom\u001b[39;00m\u001b[38;5;250m \u001b[39m\u001b[38;5;21;01mfolium\u001b[39;00m\u001b[38;5;21;01m.\u001b[39;00m\u001b[38;5;21;01mplugins\u001b[39;00m\u001b[38;5;250m \u001b[39m\u001b[38;5;28;01mimport\u001b[39;00m Heatmap\n\u001b[0;32m      4\u001b[0m locations \u001b[38;5;241m=\u001b[39m \u001b[38;5;28mlist\u001b[39m(\u001b[38;5;28mzip\u001b[39m(london_df[\u001b[38;5;124m'\u001b[39m\u001b[38;5;124mLatitude\u001b[39m\u001b[38;5;124m'\u001b[39m], london_df [\u001b[38;5;124m'\u001b[39m\u001b[38;5;124mLongtitude\u001b[39m\u001b[38;5;124m'\u001b[39m]))\n\u001b[0;32m      6\u001b[0m m \u001b[38;5;241m=\u001b[39m folium\u001b[38;5;241m.\u001b[39mmap(location \u001b[38;5;241m=\u001b[39m [london_df[\u001b[38;5;124m'\u001b[39m\u001b[38;5;124mLatitude\u001b[39m\u001b[38;5;124m'\u001b[39m]\u001b[38;5;241m.\u001b[39mmean(),london_df[\u001b[38;5;124m'\u001b[39m\u001b[38;5;124mLongitude\u001b[39m\u001b[38;5;124m'\u001b[39m]\u001b[38;5;241m.\u001b[39mmean()],zoom_start \u001b[38;5;241m=\u001b[39m \u001b[38;5;241m10\u001b[39m)\n",
      "\u001b[1;31mImportError\u001b[0m: cannot import name 'Heatmap' from 'folium.plugins' (C:\\Users\\LAB4-StudentPC39\\AppData\\Local\\Programs\\Python\\Python313\\Lib\\site-packages\\folium\\plugins\\__init__.py)"
     ]
    }
   ],
   "source": [
    "import folium \n",
    "from folium.plugins import Heatmap\n",
    "\n",
    "locations = list(zip(london_df['Latitude'], london_df ['Longtitude']))\n",
    "\n",
    "m = folium.map(location = [london_df['Latitude'].mean(),london_df['Longitude'].mean()],zoom_start = 10)\n",
    "\n",
    "Heatmap(locations).add_to(m)\n",
    "\n",
    "m.save('accodent_heat.html')"
   ]
  },
  {
   "cell_type": "code",
   "execution_count": null,
   "id": "31cd8c12-4609-43b0-9179-cf75d7e92330",
   "metadata": {},
   "outputs": [],
   "source": []
  }
 ],
 "metadata": {
  "kernelspec": {
   "display_name": "Python 3 (ipykernel)",
   "language": "python",
   "name": "python3"
  },
  "language_info": {
   "codemirror_mode": {
    "name": "ipython",
    "version": 3
   },
   "file_extension": ".py",
   "mimetype": "text/x-python",
   "name": "python",
   "nbconvert_exporter": "python",
   "pygments_lexer": "ipython3",
   "version": "3.13.1"
  }
 },
 "nbformat": 4,
 "nbformat_minor": 5
}

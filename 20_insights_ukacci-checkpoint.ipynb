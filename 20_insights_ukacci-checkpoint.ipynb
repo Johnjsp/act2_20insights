{
 "cells": [
  {
   "cell_type": "markdown",
   "id": "e7658533-dcd9-498e-9e10-f0712a381757",
   "metadata": {},
   "source": [
    "<h2>Importing Necessary Libraries</h2>"
   ]
  },
  {
   "cell_type": "code",
   "execution_count": 1,
   "id": "08363bff-2980-48ec-b99d-6642d34f1611",
   "metadata": {},
   "outputs": [],
   "source": [
    "import numpy as np\n",
    "import pandas as pd\n"
   ]
  },
  {
   "cell_type": "markdown",
   "id": "c39e9deb-d3f9-4af9-8955-490647ddf6f4",
   "metadata": {},
   "source": [
    "<h2>Converting data set to data frame</h2>"
   ]
  },
  {
   "cell_type": "code",
   "execution_count": 2,
   "id": "2014c829-30ed-40a8-b690-dd53606d328b",
   "metadata": {},
   "outputs": [],
   "source": [
    "acci = pd.read_csv('C:\\\\Users\\\\LAB4-StudentPC41\\\\Desktop\\\\ELEC03-ISRAEL\\\\accident_data.csv')"
   ]
  },
  {
   "cell_type": "code",
   "execution_count": 3,
   "id": "2b06a2f0-a2ca-4256-b0be-44c8b957f923",
   "metadata": {},
   "outputs": [
    {
     "data": {
      "text/html": [
       "<div>\n",
       "<style scoped>\n",
       "    .dataframe tbody tr th:only-of-type {\n",
       "        vertical-align: middle;\n",
       "    }\n",
       "\n",
       "    .dataframe tbody tr th {\n",
       "        vertical-align: top;\n",
       "    }\n",
       "\n",
       "    .dataframe thead th {\n",
       "        text-align: right;\n",
       "    }\n",
       "</style>\n",
       "<table border=\"1\" class=\"dataframe\">\n",
       "  <thead>\n",
       "    <tr style=\"text-align: right;\">\n",
       "      <th></th>\n",
       "      <th>Index</th>\n",
       "      <th>Accident_Severity</th>\n",
       "      <th>Accident Date</th>\n",
       "      <th>Latitude</th>\n",
       "      <th>Light_Conditions</th>\n",
       "      <th>District Area</th>\n",
       "      <th>Longitude</th>\n",
       "      <th>Number_of_Casualties</th>\n",
       "      <th>Number_of_Vehicles</th>\n",
       "      <th>Road_Surface_Conditions</th>\n",
       "      <th>Road_Type</th>\n",
       "      <th>Urban_or_Rural_Area</th>\n",
       "      <th>Weather_Conditions</th>\n",
       "      <th>Vehicle_Type</th>\n",
       "    </tr>\n",
       "  </thead>\n",
       "  <tbody>\n",
       "    <tr>\n",
       "      <th>0</th>\n",
       "      <td>200701BS64157</td>\n",
       "      <td>Serious</td>\n",
       "      <td>5/6/2019</td>\n",
       "      <td>51.506187</td>\n",
       "      <td>Darkness - lights lit</td>\n",
       "      <td>Kensington and Chelsea</td>\n",
       "      <td>-0.209082</td>\n",
       "      <td>1</td>\n",
       "      <td>2</td>\n",
       "      <td>Dry</td>\n",
       "      <td>Single carriageway</td>\n",
       "      <td>Urban</td>\n",
       "      <td>Fine no high winds</td>\n",
       "      <td>Car</td>\n",
       "    </tr>\n",
       "    <tr>\n",
       "      <th>1</th>\n",
       "      <td>200701BS65737</td>\n",
       "      <td>Serious</td>\n",
       "      <td>2/7/2019</td>\n",
       "      <td>51.495029</td>\n",
       "      <td>Daylight</td>\n",
       "      <td>Kensington and Chelsea</td>\n",
       "      <td>-0.173647</td>\n",
       "      <td>1</td>\n",
       "      <td>2</td>\n",
       "      <td>Wet or damp</td>\n",
       "      <td>Single carriageway</td>\n",
       "      <td>Urban</td>\n",
       "      <td>Raining no high winds</td>\n",
       "      <td>Car</td>\n",
       "    </tr>\n",
       "    <tr>\n",
       "      <th>2</th>\n",
       "      <td>200701BS66127</td>\n",
       "      <td>Serious</td>\n",
       "      <td>26-08-2019</td>\n",
       "      <td>51.517715</td>\n",
       "      <td>Darkness - lighting unknown</td>\n",
       "      <td>Kensington and Chelsea</td>\n",
       "      <td>-0.210215</td>\n",
       "      <td>1</td>\n",
       "      <td>3</td>\n",
       "      <td>Dry</td>\n",
       "      <td>NaN</td>\n",
       "      <td>Urban</td>\n",
       "      <td>NaN</td>\n",
       "      <td>Taxi/Private hire car</td>\n",
       "    </tr>\n",
       "    <tr>\n",
       "      <th>3</th>\n",
       "      <td>200701BS66128</td>\n",
       "      <td>Serious</td>\n",
       "      <td>16-08-2019</td>\n",
       "      <td>51.495478</td>\n",
       "      <td>Daylight</td>\n",
       "      <td>Kensington and Chelsea</td>\n",
       "      <td>-0.202731</td>\n",
       "      <td>1</td>\n",
       "      <td>4</td>\n",
       "      <td>Dry</td>\n",
       "      <td>Single carriageway</td>\n",
       "      <td>Urban</td>\n",
       "      <td>Fine no high winds</td>\n",
       "      <td>Bus or coach (17 or more pass seats)</td>\n",
       "    </tr>\n",
       "    <tr>\n",
       "      <th>4</th>\n",
       "      <td>200701BS66837</td>\n",
       "      <td>Slight</td>\n",
       "      <td>3/9/2019</td>\n",
       "      <td>51.488576</td>\n",
       "      <td>Darkness - lights lit</td>\n",
       "      <td>Kensington and Chelsea</td>\n",
       "      <td>-0.192487</td>\n",
       "      <td>1</td>\n",
       "      <td>2</td>\n",
       "      <td>Dry</td>\n",
       "      <td>NaN</td>\n",
       "      <td>Urban</td>\n",
       "      <td>NaN</td>\n",
       "      <td>Other vehicle</td>\n",
       "    </tr>\n",
       "    <tr>\n",
       "      <th>...</th>\n",
       "      <td>...</td>\n",
       "      <td>...</td>\n",
       "      <td>...</td>\n",
       "      <td>...</td>\n",
       "      <td>...</td>\n",
       "      <td>...</td>\n",
       "      <td>...</td>\n",
       "      <td>...</td>\n",
       "      <td>...</td>\n",
       "      <td>...</td>\n",
       "      <td>...</td>\n",
       "      <td>...</td>\n",
       "      <td>...</td>\n",
       "      <td>...</td>\n",
       "    </tr>\n",
       "    <tr>\n",
       "      <th>660674</th>\n",
       "      <td>201091NM01760</td>\n",
       "      <td>Slight</td>\n",
       "      <td>18-02-2022</td>\n",
       "      <td>57.374005</td>\n",
       "      <td>Daylight</td>\n",
       "      <td>Highland</td>\n",
       "      <td>-3.467828</td>\n",
       "      <td>2</td>\n",
       "      <td>1</td>\n",
       "      <td>Dry</td>\n",
       "      <td>Single carriageway</td>\n",
       "      <td>Rural</td>\n",
       "      <td>Fine no high winds</td>\n",
       "      <td>Car</td>\n",
       "    </tr>\n",
       "    <tr>\n",
       "      <th>660675</th>\n",
       "      <td>201091NM01881</td>\n",
       "      <td>Slight</td>\n",
       "      <td>21-02-2022</td>\n",
       "      <td>57.232273</td>\n",
       "      <td>Darkness - no lighting</td>\n",
       "      <td>Highland</td>\n",
       "      <td>-3.809281</td>\n",
       "      <td>1</td>\n",
       "      <td>1</td>\n",
       "      <td>Frost or ice</td>\n",
       "      <td>Single carriageway</td>\n",
       "      <td>Rural</td>\n",
       "      <td>Fine no high winds</td>\n",
       "      <td>Car</td>\n",
       "    </tr>\n",
       "    <tr>\n",
       "      <th>660676</th>\n",
       "      <td>201091NM01935</td>\n",
       "      <td>Slight</td>\n",
       "      <td>23-02-2022</td>\n",
       "      <td>57.585044</td>\n",
       "      <td>Daylight</td>\n",
       "      <td>Highland</td>\n",
       "      <td>-3.862727</td>\n",
       "      <td>1</td>\n",
       "      <td>3</td>\n",
       "      <td>Frost or ice</td>\n",
       "      <td>Single carriageway</td>\n",
       "      <td>Rural</td>\n",
       "      <td>Fine no high winds</td>\n",
       "      <td>Car</td>\n",
       "    </tr>\n",
       "    <tr>\n",
       "      <th>660677</th>\n",
       "      <td>201091NM01964</td>\n",
       "      <td>Serious</td>\n",
       "      <td>23-02-2022</td>\n",
       "      <td>57.214898</td>\n",
       "      <td>Darkness - no lighting</td>\n",
       "      <td>Highland</td>\n",
       "      <td>-3.823997</td>\n",
       "      <td>1</td>\n",
       "      <td>2</td>\n",
       "      <td>Wet or damp</td>\n",
       "      <td>Single carriageway</td>\n",
       "      <td>Rural</td>\n",
       "      <td>Fine no high winds</td>\n",
       "      <td>Motorcycle over 500cc</td>\n",
       "    </tr>\n",
       "    <tr>\n",
       "      <th>660678</th>\n",
       "      <td>201091NM02142</td>\n",
       "      <td>Serious</td>\n",
       "      <td>28-02-2022</td>\n",
       "      <td>57.575210</td>\n",
       "      <td>Daylight</td>\n",
       "      <td>Highland</td>\n",
       "      <td>-3.895673</td>\n",
       "      <td>1</td>\n",
       "      <td>1</td>\n",
       "      <td>Wet or damp</td>\n",
       "      <td>Dual carriageway</td>\n",
       "      <td>Rural</td>\n",
       "      <td>Snowing no high winds</td>\n",
       "      <td>Car</td>\n",
       "    </tr>\n",
       "  </tbody>\n",
       "</table>\n",
       "<p>660679 rows × 14 columns</p>\n",
       "</div>"
      ],
      "text/plain": [
       "                Index Accident_Severity Accident Date   Latitude  \\\n",
       "0       200701BS64157           Serious      5/6/2019  51.506187   \n",
       "1       200701BS65737           Serious      2/7/2019  51.495029   \n",
       "2       200701BS66127           Serious    26-08-2019  51.517715   \n",
       "3       200701BS66128           Serious    16-08-2019  51.495478   \n",
       "4       200701BS66837            Slight      3/9/2019  51.488576   \n",
       "...               ...               ...           ...        ...   \n",
       "660674  201091NM01760            Slight    18-02-2022  57.374005   \n",
       "660675  201091NM01881            Slight    21-02-2022  57.232273   \n",
       "660676  201091NM01935            Slight    23-02-2022  57.585044   \n",
       "660677  201091NM01964           Serious    23-02-2022  57.214898   \n",
       "660678  201091NM02142           Serious    28-02-2022  57.575210   \n",
       "\n",
       "                   Light_Conditions           District Area  Longitude  \\\n",
       "0             Darkness - lights lit  Kensington and Chelsea  -0.209082   \n",
       "1                          Daylight  Kensington and Chelsea  -0.173647   \n",
       "2       Darkness - lighting unknown  Kensington and Chelsea  -0.210215   \n",
       "3                          Daylight  Kensington and Chelsea  -0.202731   \n",
       "4             Darkness - lights lit  Kensington and Chelsea  -0.192487   \n",
       "...                             ...                     ...        ...   \n",
       "660674                     Daylight                Highland  -3.467828   \n",
       "660675       Darkness - no lighting                Highland  -3.809281   \n",
       "660676                     Daylight                Highland  -3.862727   \n",
       "660677       Darkness - no lighting                Highland  -3.823997   \n",
       "660678                     Daylight                Highland  -3.895673   \n",
       "\n",
       "        Number_of_Casualties  Number_of_Vehicles Road_Surface_Conditions  \\\n",
       "0                          1                   2                     Dry   \n",
       "1                          1                   2             Wet or damp   \n",
       "2                          1                   3                     Dry   \n",
       "3                          1                   4                     Dry   \n",
       "4                          1                   2                     Dry   \n",
       "...                      ...                 ...                     ...   \n",
       "660674                     2                   1                     Dry   \n",
       "660675                     1                   1            Frost or ice   \n",
       "660676                     1                   3            Frost or ice   \n",
       "660677                     1                   2             Wet or damp   \n",
       "660678                     1                   1             Wet or damp   \n",
       "\n",
       "                 Road_Type Urban_or_Rural_Area     Weather_Conditions  \\\n",
       "0       Single carriageway               Urban     Fine no high winds   \n",
       "1       Single carriageway               Urban  Raining no high winds   \n",
       "2                      NaN               Urban                    NaN   \n",
       "3       Single carriageway               Urban     Fine no high winds   \n",
       "4                      NaN               Urban                    NaN   \n",
       "...                    ...                 ...                    ...   \n",
       "660674  Single carriageway               Rural     Fine no high winds   \n",
       "660675  Single carriageway               Rural     Fine no high winds   \n",
       "660676  Single carriageway               Rural     Fine no high winds   \n",
       "660677  Single carriageway               Rural     Fine no high winds   \n",
       "660678    Dual carriageway               Rural  Snowing no high winds   \n",
       "\n",
       "                                Vehicle_Type  \n",
       "0                                        Car  \n",
       "1                                        Car  \n",
       "2                      Taxi/Private hire car  \n",
       "3       Bus or coach (17 or more pass seats)  \n",
       "4                              Other vehicle  \n",
       "...                                      ...  \n",
       "660674                                   Car  \n",
       "660675                                   Car  \n",
       "660676                                   Car  \n",
       "660677                 Motorcycle over 500cc  \n",
       "660678                                   Car  \n",
       "\n",
       "[660679 rows x 14 columns]"
      ]
     },
     "execution_count": 3,
     "metadata": {},
     "output_type": "execute_result"
    }
   ],
   "source": [
    "acci"
   ]
  },
  {
   "cell_type": "markdown",
   "id": "604fdc02-eef7-4093-846f-6dec9f9e16d9",
   "metadata": {},
   "source": [
    "<h2>Check Dataframe Information</h2>"
   ]
  },
  {
   "cell_type": "code",
   "execution_count": 4,
   "id": "ca3a9529-17cd-42aa-b0ef-8350d688159e",
   "metadata": {},
   "outputs": [
    {
     "data": {
      "text/plain": [
       "<bound method DataFrame.info of                 Index Accident_Severity Accident Date   Latitude  \\\n",
       "0       200701BS64157           Serious      5/6/2019  51.506187   \n",
       "1       200701BS65737           Serious      2/7/2019  51.495029   \n",
       "2       200701BS66127           Serious    26-08-2019  51.517715   \n",
       "3       200701BS66128           Serious    16-08-2019  51.495478   \n",
       "4       200701BS66837            Slight      3/9/2019  51.488576   \n",
       "...               ...               ...           ...        ...   \n",
       "660674  201091NM01760            Slight    18-02-2022  57.374005   \n",
       "660675  201091NM01881            Slight    21-02-2022  57.232273   \n",
       "660676  201091NM01935            Slight    23-02-2022  57.585044   \n",
       "660677  201091NM01964           Serious    23-02-2022  57.214898   \n",
       "660678  201091NM02142           Serious    28-02-2022  57.575210   \n",
       "\n",
       "                   Light_Conditions           District Area  Longitude  \\\n",
       "0             Darkness - lights lit  Kensington and Chelsea  -0.209082   \n",
       "1                          Daylight  Kensington and Chelsea  -0.173647   \n",
       "2       Darkness - lighting unknown  Kensington and Chelsea  -0.210215   \n",
       "3                          Daylight  Kensington and Chelsea  -0.202731   \n",
       "4             Darkness - lights lit  Kensington and Chelsea  -0.192487   \n",
       "...                             ...                     ...        ...   \n",
       "660674                     Daylight                Highland  -3.467828   \n",
       "660675       Darkness - no lighting                Highland  -3.809281   \n",
       "660676                     Daylight                Highland  -3.862727   \n",
       "660677       Darkness - no lighting                Highland  -3.823997   \n",
       "660678                     Daylight                Highland  -3.895673   \n",
       "\n",
       "        Number_of_Casualties  Number_of_Vehicles Road_Surface_Conditions  \\\n",
       "0                          1                   2                     Dry   \n",
       "1                          1                   2             Wet or damp   \n",
       "2                          1                   3                     Dry   \n",
       "3                          1                   4                     Dry   \n",
       "4                          1                   2                     Dry   \n",
       "...                      ...                 ...                     ...   \n",
       "660674                     2                   1                     Dry   \n",
       "660675                     1                   1            Frost or ice   \n",
       "660676                     1                   3            Frost or ice   \n",
       "660677                     1                   2             Wet or damp   \n",
       "660678                     1                   1             Wet or damp   \n",
       "\n",
       "                 Road_Type Urban_or_Rural_Area     Weather_Conditions  \\\n",
       "0       Single carriageway               Urban     Fine no high winds   \n",
       "1       Single carriageway               Urban  Raining no high winds   \n",
       "2                      NaN               Urban                    NaN   \n",
       "3       Single carriageway               Urban     Fine no high winds   \n",
       "4                      NaN               Urban                    NaN   \n",
       "...                    ...                 ...                    ...   \n",
       "660674  Single carriageway               Rural     Fine no high winds   \n",
       "660675  Single carriageway               Rural     Fine no high winds   \n",
       "660676  Single carriageway               Rural     Fine no high winds   \n",
       "660677  Single carriageway               Rural     Fine no high winds   \n",
       "660678    Dual carriageway               Rural  Snowing no high winds   \n",
       "\n",
       "                                Vehicle_Type  \n",
       "0                                        Car  \n",
       "1                                        Car  \n",
       "2                      Taxi/Private hire car  \n",
       "3       Bus or coach (17 or more pass seats)  \n",
       "4                              Other vehicle  \n",
       "...                                      ...  \n",
       "660674                                   Car  \n",
       "660675                                   Car  \n",
       "660676                                   Car  \n",
       "660677                 Motorcycle over 500cc  \n",
       "660678                                   Car  \n",
       "\n",
       "[660679 rows x 14 columns]>"
      ]
     },
     "execution_count": 4,
     "metadata": {},
     "output_type": "execute_result"
    }
   ],
   "source": [
    "acci.info"
   ]
  },
  {
   "cell_type": "markdown",
   "id": "476cb70c-6675-4ec9-8d53-4932ac7c4c41",
   "metadata": {},
   "source": [
    "<h2>Check Discriptive Statistics</h2>"
   ]
  },
  {
   "cell_type": "code",
   "execution_count": 5,
   "id": "5b55733a-5f6c-4047-9914-9d0c499dbe13",
   "metadata": {},
   "outputs": [
    {
     "data": {
      "text/plain": [
       "<bound method NDFrame.describe of                 Index Accident_Severity Accident Date   Latitude  \\\n",
       "0       200701BS64157           Serious      5/6/2019  51.506187   \n",
       "1       200701BS65737           Serious      2/7/2019  51.495029   \n",
       "2       200701BS66127           Serious    26-08-2019  51.517715   \n",
       "3       200701BS66128           Serious    16-08-2019  51.495478   \n",
       "4       200701BS66837            Slight      3/9/2019  51.488576   \n",
       "...               ...               ...           ...        ...   \n",
       "660674  201091NM01760            Slight    18-02-2022  57.374005   \n",
       "660675  201091NM01881            Slight    21-02-2022  57.232273   \n",
       "660676  201091NM01935            Slight    23-02-2022  57.585044   \n",
       "660677  201091NM01964           Serious    23-02-2022  57.214898   \n",
       "660678  201091NM02142           Serious    28-02-2022  57.575210   \n",
       "\n",
       "                   Light_Conditions           District Area  Longitude  \\\n",
       "0             Darkness - lights lit  Kensington and Chelsea  -0.209082   \n",
       "1                          Daylight  Kensington and Chelsea  -0.173647   \n",
       "2       Darkness - lighting unknown  Kensington and Chelsea  -0.210215   \n",
       "3                          Daylight  Kensington and Chelsea  -0.202731   \n",
       "4             Darkness - lights lit  Kensington and Chelsea  -0.192487   \n",
       "...                             ...                     ...        ...   \n",
       "660674                     Daylight                Highland  -3.467828   \n",
       "660675       Darkness - no lighting                Highland  -3.809281   \n",
       "660676                     Daylight                Highland  -3.862727   \n",
       "660677       Darkness - no lighting                Highland  -3.823997   \n",
       "660678                     Daylight                Highland  -3.895673   \n",
       "\n",
       "        Number_of_Casualties  Number_of_Vehicles Road_Surface_Conditions  \\\n",
       "0                          1                   2                     Dry   \n",
       "1                          1                   2             Wet or damp   \n",
       "2                          1                   3                     Dry   \n",
       "3                          1                   4                     Dry   \n",
       "4                          1                   2                     Dry   \n",
       "...                      ...                 ...                     ...   \n",
       "660674                     2                   1                     Dry   \n",
       "660675                     1                   1            Frost or ice   \n",
       "660676                     1                   3            Frost or ice   \n",
       "660677                     1                   2             Wet or damp   \n",
       "660678                     1                   1             Wet or damp   \n",
       "\n",
       "                 Road_Type Urban_or_Rural_Area     Weather_Conditions  \\\n",
       "0       Single carriageway               Urban     Fine no high winds   \n",
       "1       Single carriageway               Urban  Raining no high winds   \n",
       "2                      NaN               Urban                    NaN   \n",
       "3       Single carriageway               Urban     Fine no high winds   \n",
       "4                      NaN               Urban                    NaN   \n",
       "...                    ...                 ...                    ...   \n",
       "660674  Single carriageway               Rural     Fine no high winds   \n",
       "660675  Single carriageway               Rural     Fine no high winds   \n",
       "660676  Single carriageway               Rural     Fine no high winds   \n",
       "660677  Single carriageway               Rural     Fine no high winds   \n",
       "660678    Dual carriageway               Rural  Snowing no high winds   \n",
       "\n",
       "                                Vehicle_Type  \n",
       "0                                        Car  \n",
       "1                                        Car  \n",
       "2                      Taxi/Private hire car  \n",
       "3       Bus or coach (17 or more pass seats)  \n",
       "4                              Other vehicle  \n",
       "...                                      ...  \n",
       "660674                                   Car  \n",
       "660675                                   Car  \n",
       "660676                                   Car  \n",
       "660677                 Motorcycle over 500cc  \n",
       "660678                                   Car  \n",
       "\n",
       "[660679 rows x 14 columns]>"
      ]
     },
     "execution_count": 5,
     "metadata": {},
     "output_type": "execute_result"
    }
   ],
   "source": [
    "acci.describe"
   ]
  },
  {
   "cell_type": "markdown",
   "id": "b3f26da2-37c0-490d-ad9f-730ddccbf933",
   "metadata": {},
   "source": [
    "<h2>Call Each Column Individually</h2>"
   ]
  },
  {
   "cell_type": "code",
   "execution_count": 6,
   "id": "2e33c773-64df-44e6-a891-f228dda93500",
   "metadata": {},
   "outputs": [
    {
     "data": {
      "text/plain": [
       "0         200701BS64157\n",
       "1         200701BS65737\n",
       "2         200701BS66127\n",
       "3         200701BS66128\n",
       "4         200701BS66837\n",
       "              ...      \n",
       "660674    201091NM01760\n",
       "660675    201091NM01881\n",
       "660676    201091NM01935\n",
       "660677    201091NM01964\n",
       "660678    201091NM02142\n",
       "Name: Index, Length: 660679, dtype: object"
      ]
     },
     "execution_count": 6,
     "metadata": {},
     "output_type": "execute_result"
    }
   ],
   "source": [
    "acci['Index']"
   ]
  },
  {
   "cell_type": "code",
   "execution_count": 7,
   "id": "e9244015-f935-4f05-adf6-a247d1953361",
   "metadata": {},
   "outputs": [
    {
     "data": {
      "text/plain": [
       "0         Serious\n",
       "1         Serious\n",
       "2         Serious\n",
       "3         Serious\n",
       "4          Slight\n",
       "           ...   \n",
       "660674     Slight\n",
       "660675     Slight\n",
       "660676     Slight\n",
       "660677    Serious\n",
       "660678    Serious\n",
       "Name: Accident_Severity, Length: 660679, dtype: object"
      ]
     },
     "execution_count": 7,
     "metadata": {},
     "output_type": "execute_result"
    }
   ],
   "source": [
    "acci['Accident_Severity']"
   ]
  },
  {
   "cell_type": "code",
   "execution_count": 8,
   "id": "c7a1bc8e-f65d-4aad-81d1-d90c295234e0",
   "metadata": {},
   "outputs": [
    {
     "data": {
      "text/plain": [
       "0           5/6/2019\n",
       "1           2/7/2019\n",
       "2         26-08-2019\n",
       "3         16-08-2019\n",
       "4           3/9/2019\n",
       "             ...    \n",
       "660674    18-02-2022\n",
       "660675    21-02-2022\n",
       "660676    23-02-2022\n",
       "660677    23-02-2022\n",
       "660678    28-02-2022\n",
       "Name: Accident Date, Length: 660679, dtype: object"
      ]
     },
     "execution_count": 8,
     "metadata": {},
     "output_type": "execute_result"
    }
   ],
   "source": [
    "acci['Accident Date']"
   ]
  },
  {
   "cell_type": "code",
   "execution_count": 9,
   "id": "a331dae9-e8d4-447f-b709-e8ebcf07d9c4",
   "metadata": {},
   "outputs": [
    {
     "data": {
      "text/plain": [
       "0         51.506187\n",
       "1         51.495029\n",
       "2         51.517715\n",
       "3         51.495478\n",
       "4         51.488576\n",
       "            ...    \n",
       "660674    57.374005\n",
       "660675    57.232273\n",
       "660676    57.585044\n",
       "660677    57.214898\n",
       "660678    57.575210\n",
       "Name: Latitude, Length: 660679, dtype: float64"
      ]
     },
     "execution_count": 9,
     "metadata": {},
     "output_type": "execute_result"
    }
   ],
   "source": [
    "acci['Latitude']"
   ]
  },
  {
   "cell_type": "code",
   "execution_count": 10,
   "id": "ba23f019-97e5-4743-a1a3-49d0ff728114",
   "metadata": {},
   "outputs": [
    {
     "data": {
      "text/plain": [
       "0               Darkness - lights lit\n",
       "1                            Daylight\n",
       "2         Darkness - lighting unknown\n",
       "3                            Daylight\n",
       "4               Darkness - lights lit\n",
       "                     ...             \n",
       "660674                       Daylight\n",
       "660675         Darkness - no lighting\n",
       "660676                       Daylight\n",
       "660677         Darkness - no lighting\n",
       "660678                       Daylight\n",
       "Name: Light_Conditions, Length: 660679, dtype: object"
      ]
     },
     "execution_count": 10,
     "metadata": {},
     "output_type": "execute_result"
    }
   ],
   "source": [
    "acci['Light_Conditions']"
   ]
  },
  {
   "cell_type": "code",
   "execution_count": 11,
   "id": "20a625a7-1565-4e32-8637-4c39e7641a0b",
   "metadata": {},
   "outputs": [
    {
     "data": {
      "text/plain": [
       "0         Kensington and Chelsea\n",
       "1         Kensington and Chelsea\n",
       "2         Kensington and Chelsea\n",
       "3         Kensington and Chelsea\n",
       "4         Kensington and Chelsea\n",
       "                   ...          \n",
       "660674                  Highland\n",
       "660675                  Highland\n",
       "660676                  Highland\n",
       "660677                  Highland\n",
       "660678                  Highland\n",
       "Name: District Area, Length: 660679, dtype: object"
      ]
     },
     "execution_count": 11,
     "metadata": {},
     "output_type": "execute_result"
    }
   ],
   "source": [
    "acci['District Area']"
   ]
  },
  {
   "cell_type": "code",
   "execution_count": 12,
   "id": "97c9130c-cba2-41b6-b262-07f59ba85ae0",
   "metadata": {},
   "outputs": [
    {
     "data": {
      "text/plain": [
       "0         1\n",
       "1         1\n",
       "2         1\n",
       "3         1\n",
       "4         1\n",
       "         ..\n",
       "660674    2\n",
       "660675    1\n",
       "660676    1\n",
       "660677    1\n",
       "660678    1\n",
       "Name: Number_of_Casualties, Length: 660679, dtype: int64"
      ]
     },
     "execution_count": 12,
     "metadata": {},
     "output_type": "execute_result"
    }
   ],
   "source": [
    "acci['Number_of_Casualties']"
   ]
  },
  {
   "cell_type": "code",
   "execution_count": 13,
   "id": "28fb21ab-4389-40c5-ab58-6734efcf056e",
   "metadata": {},
   "outputs": [
    {
     "data": {
      "text/plain": [
       "0         2\n",
       "1         2\n",
       "2         3\n",
       "3         4\n",
       "4         2\n",
       "         ..\n",
       "660674    1\n",
       "660675    1\n",
       "660676    3\n",
       "660677    2\n",
       "660678    1\n",
       "Name: Number_of_Vehicles, Length: 660679, dtype: int64"
      ]
     },
     "execution_count": 13,
     "metadata": {},
     "output_type": "execute_result"
    }
   ],
   "source": [
    "acci['Number_of_Vehicles']"
   ]
  },
  {
   "cell_type": "code",
   "execution_count": 14,
   "id": "576a9d10-c468-4b2d-ab4c-d8edd1599f4f",
   "metadata": {},
   "outputs": [
    {
     "data": {
      "text/plain": [
       "0                  Dry\n",
       "1          Wet or damp\n",
       "2                  Dry\n",
       "3                  Dry\n",
       "4                  Dry\n",
       "              ...     \n",
       "660674             Dry\n",
       "660675    Frost or ice\n",
       "660676    Frost or ice\n",
       "660677     Wet or damp\n",
       "660678     Wet or damp\n",
       "Name: Road_Surface_Conditions, Length: 660679, dtype: object"
      ]
     },
     "execution_count": 14,
     "metadata": {},
     "output_type": "execute_result"
    }
   ],
   "source": [
    "acci['Road_Surface_Conditions']"
   ]
  },
  {
   "cell_type": "code",
   "execution_count": 15,
   "id": "402999cd-f274-4eff-8c10-7e852bf0d648",
   "metadata": {},
   "outputs": [
    {
     "data": {
      "text/plain": [
       "0         Single carriageway\n",
       "1         Single carriageway\n",
       "2                        NaN\n",
       "3         Single carriageway\n",
       "4                        NaN\n",
       "                 ...        \n",
       "660674    Single carriageway\n",
       "660675    Single carriageway\n",
       "660676    Single carriageway\n",
       "660677    Single carriageway\n",
       "660678      Dual carriageway\n",
       "Name: Road_Type, Length: 660679, dtype: object"
      ]
     },
     "execution_count": 15,
     "metadata": {},
     "output_type": "execute_result"
    }
   ],
   "source": [
    "acci['Road_Type']"
   ]
  },
  {
   "cell_type": "code",
   "execution_count": 16,
   "id": "f9e66aeb-5632-4633-9525-2cee441956a3",
   "metadata": {},
   "outputs": [
    {
     "data": {
      "text/plain": [
       "0         Urban\n",
       "1         Urban\n",
       "2         Urban\n",
       "3         Urban\n",
       "4         Urban\n",
       "          ...  \n",
       "660674    Rural\n",
       "660675    Rural\n",
       "660676    Rural\n",
       "660677    Rural\n",
       "660678    Rural\n",
       "Name: Urban_or_Rural_Area, Length: 660679, dtype: object"
      ]
     },
     "execution_count": 16,
     "metadata": {},
     "output_type": "execute_result"
    }
   ],
   "source": [
    "acci['Urban_or_Rural_Area']"
   ]
  },
  {
   "cell_type": "code",
   "execution_count": 17,
   "id": "6a82cadc-9e89-4c90-8d20-50ae0e43aa81",
   "metadata": {},
   "outputs": [
    {
     "data": {
      "text/plain": [
       "0            Fine no high winds\n",
       "1         Raining no high winds\n",
       "2                           NaN\n",
       "3            Fine no high winds\n",
       "4                           NaN\n",
       "                  ...          \n",
       "660674       Fine no high winds\n",
       "660675       Fine no high winds\n",
       "660676       Fine no high winds\n",
       "660677       Fine no high winds\n",
       "660678    Snowing no high winds\n",
       "Name: Weather_Conditions, Length: 660679, dtype: object"
      ]
     },
     "execution_count": 17,
     "metadata": {},
     "output_type": "execute_result"
    }
   ],
   "source": [
    "acci['Weather_Conditions']"
   ]
  },
  {
   "cell_type": "code",
   "execution_count": 18,
   "id": "dd93a489-e9a7-41a4-94b9-52ebd4d0bbdb",
   "metadata": {},
   "outputs": [
    {
     "data": {
      "text/plain": [
       "0                                          Car\n",
       "1                                          Car\n",
       "2                        Taxi/Private hire car\n",
       "3         Bus or coach (17 or more pass seats)\n",
       "4                                Other vehicle\n",
       "                          ...                 \n",
       "660674                                     Car\n",
       "660675                                     Car\n",
       "660676                                     Car\n",
       "660677                   Motorcycle over 500cc\n",
       "660678                                     Car\n",
       "Name: Vehicle_Type, Length: 660679, dtype: object"
      ]
     },
     "execution_count": 18,
     "metadata": {},
     "output_type": "execute_result"
    }
   ],
   "source": [
    "acci['Vehicle_Type']"
   ]
  },
  {
   "cell_type": "markdown",
   "id": "841c46be-7826-4af3-b51d-3653425a333d",
   "metadata": {},
   "source": [
    "<h2>Check For Null Values</h2>"
   ]
  },
  {
   "cell_type": "code",
   "execution_count": 19,
   "id": "0d739c9b-124b-4481-9a70-f980ab601eb0",
   "metadata": {},
   "outputs": [
    {
     "data": {
      "text/html": [
       "<div>\n",
       "<style scoped>\n",
       "    .dataframe tbody tr th:only-of-type {\n",
       "        vertical-align: middle;\n",
       "    }\n",
       "\n",
       "    .dataframe tbody tr th {\n",
       "        vertical-align: top;\n",
       "    }\n",
       "\n",
       "    .dataframe thead th {\n",
       "        text-align: right;\n",
       "    }\n",
       "</style>\n",
       "<table border=\"1\" class=\"dataframe\">\n",
       "  <thead>\n",
       "    <tr style=\"text-align: right;\">\n",
       "      <th></th>\n",
       "      <th>Index</th>\n",
       "      <th>Accident_Severity</th>\n",
       "      <th>Accident Date</th>\n",
       "      <th>Latitude</th>\n",
       "      <th>Light_Conditions</th>\n",
       "      <th>District Area</th>\n",
       "      <th>Longitude</th>\n",
       "      <th>Number_of_Casualties</th>\n",
       "      <th>Number_of_Vehicles</th>\n",
       "      <th>Road_Surface_Conditions</th>\n",
       "      <th>Road_Type</th>\n",
       "      <th>Urban_or_Rural_Area</th>\n",
       "      <th>Weather_Conditions</th>\n",
       "      <th>Vehicle_Type</th>\n",
       "    </tr>\n",
       "  </thead>\n",
       "  <tbody>\n",
       "    <tr>\n",
       "      <th>0</th>\n",
       "      <td>False</td>\n",
       "      <td>False</td>\n",
       "      <td>False</td>\n",
       "      <td>False</td>\n",
       "      <td>False</td>\n",
       "      <td>False</td>\n",
       "      <td>False</td>\n",
       "      <td>False</td>\n",
       "      <td>False</td>\n",
       "      <td>False</td>\n",
       "      <td>False</td>\n",
       "      <td>False</td>\n",
       "      <td>False</td>\n",
       "      <td>False</td>\n",
       "    </tr>\n",
       "    <tr>\n",
       "      <th>1</th>\n",
       "      <td>False</td>\n",
       "      <td>False</td>\n",
       "      <td>False</td>\n",
       "      <td>False</td>\n",
       "      <td>False</td>\n",
       "      <td>False</td>\n",
       "      <td>False</td>\n",
       "      <td>False</td>\n",
       "      <td>False</td>\n",
       "      <td>False</td>\n",
       "      <td>False</td>\n",
       "      <td>False</td>\n",
       "      <td>False</td>\n",
       "      <td>False</td>\n",
       "    </tr>\n",
       "    <tr>\n",
       "      <th>2</th>\n",
       "      <td>False</td>\n",
       "      <td>False</td>\n",
       "      <td>False</td>\n",
       "      <td>False</td>\n",
       "      <td>False</td>\n",
       "      <td>False</td>\n",
       "      <td>False</td>\n",
       "      <td>False</td>\n",
       "      <td>False</td>\n",
       "      <td>False</td>\n",
       "      <td>True</td>\n",
       "      <td>False</td>\n",
       "      <td>True</td>\n",
       "      <td>False</td>\n",
       "    </tr>\n",
       "    <tr>\n",
       "      <th>3</th>\n",
       "      <td>False</td>\n",
       "      <td>False</td>\n",
       "      <td>False</td>\n",
       "      <td>False</td>\n",
       "      <td>False</td>\n",
       "      <td>False</td>\n",
       "      <td>False</td>\n",
       "      <td>False</td>\n",
       "      <td>False</td>\n",
       "      <td>False</td>\n",
       "      <td>False</td>\n",
       "      <td>False</td>\n",
       "      <td>False</td>\n",
       "      <td>False</td>\n",
       "    </tr>\n",
       "    <tr>\n",
       "      <th>4</th>\n",
       "      <td>False</td>\n",
       "      <td>False</td>\n",
       "      <td>False</td>\n",
       "      <td>False</td>\n",
       "      <td>False</td>\n",
       "      <td>False</td>\n",
       "      <td>False</td>\n",
       "      <td>False</td>\n",
       "      <td>False</td>\n",
       "      <td>False</td>\n",
       "      <td>True</td>\n",
       "      <td>False</td>\n",
       "      <td>True</td>\n",
       "      <td>False</td>\n",
       "    </tr>\n",
       "    <tr>\n",
       "      <th>...</th>\n",
       "      <td>...</td>\n",
       "      <td>...</td>\n",
       "      <td>...</td>\n",
       "      <td>...</td>\n",
       "      <td>...</td>\n",
       "      <td>...</td>\n",
       "      <td>...</td>\n",
       "      <td>...</td>\n",
       "      <td>...</td>\n",
       "      <td>...</td>\n",
       "      <td>...</td>\n",
       "      <td>...</td>\n",
       "      <td>...</td>\n",
       "      <td>...</td>\n",
       "    </tr>\n",
       "    <tr>\n",
       "      <th>660674</th>\n",
       "      <td>False</td>\n",
       "      <td>False</td>\n",
       "      <td>False</td>\n",
       "      <td>False</td>\n",
       "      <td>False</td>\n",
       "      <td>False</td>\n",
       "      <td>False</td>\n",
       "      <td>False</td>\n",
       "      <td>False</td>\n",
       "      <td>False</td>\n",
       "      <td>False</td>\n",
       "      <td>False</td>\n",
       "      <td>False</td>\n",
       "      <td>False</td>\n",
       "    </tr>\n",
       "    <tr>\n",
       "      <th>660675</th>\n",
       "      <td>False</td>\n",
       "      <td>False</td>\n",
       "      <td>False</td>\n",
       "      <td>False</td>\n",
       "      <td>False</td>\n",
       "      <td>False</td>\n",
       "      <td>False</td>\n",
       "      <td>False</td>\n",
       "      <td>False</td>\n",
       "      <td>False</td>\n",
       "      <td>False</td>\n",
       "      <td>False</td>\n",
       "      <td>False</td>\n",
       "      <td>False</td>\n",
       "    </tr>\n",
       "    <tr>\n",
       "      <th>660676</th>\n",
       "      <td>False</td>\n",
       "      <td>False</td>\n",
       "      <td>False</td>\n",
       "      <td>False</td>\n",
       "      <td>False</td>\n",
       "      <td>False</td>\n",
       "      <td>False</td>\n",
       "      <td>False</td>\n",
       "      <td>False</td>\n",
       "      <td>False</td>\n",
       "      <td>False</td>\n",
       "      <td>False</td>\n",
       "      <td>False</td>\n",
       "      <td>False</td>\n",
       "    </tr>\n",
       "    <tr>\n",
       "      <th>660677</th>\n",
       "      <td>False</td>\n",
       "      <td>False</td>\n",
       "      <td>False</td>\n",
       "      <td>False</td>\n",
       "      <td>False</td>\n",
       "      <td>False</td>\n",
       "      <td>False</td>\n",
       "      <td>False</td>\n",
       "      <td>False</td>\n",
       "      <td>False</td>\n",
       "      <td>False</td>\n",
       "      <td>False</td>\n",
       "      <td>False</td>\n",
       "      <td>False</td>\n",
       "    </tr>\n",
       "    <tr>\n",
       "      <th>660678</th>\n",
       "      <td>False</td>\n",
       "      <td>False</td>\n",
       "      <td>False</td>\n",
       "      <td>False</td>\n",
       "      <td>False</td>\n",
       "      <td>False</td>\n",
       "      <td>False</td>\n",
       "      <td>False</td>\n",
       "      <td>False</td>\n",
       "      <td>False</td>\n",
       "      <td>False</td>\n",
       "      <td>False</td>\n",
       "      <td>False</td>\n",
       "      <td>False</td>\n",
       "    </tr>\n",
       "  </tbody>\n",
       "</table>\n",
       "<p>660679 rows × 14 columns</p>\n",
       "</div>"
      ],
      "text/plain": [
       "        Index  Accident_Severity  Accident Date  Latitude  Light_Conditions  \\\n",
       "0       False              False          False     False             False   \n",
       "1       False              False          False     False             False   \n",
       "2       False              False          False     False             False   \n",
       "3       False              False          False     False             False   \n",
       "4       False              False          False     False             False   \n",
       "...       ...                ...            ...       ...               ...   \n",
       "660674  False              False          False     False             False   \n",
       "660675  False              False          False     False             False   \n",
       "660676  False              False          False     False             False   \n",
       "660677  False              False          False     False             False   \n",
       "660678  False              False          False     False             False   \n",
       "\n",
       "        District Area  Longitude  Number_of_Casualties  Number_of_Vehicles  \\\n",
       "0               False      False                 False               False   \n",
       "1               False      False                 False               False   \n",
       "2               False      False                 False               False   \n",
       "3               False      False                 False               False   \n",
       "4               False      False                 False               False   \n",
       "...               ...        ...                   ...                 ...   \n",
       "660674          False      False                 False               False   \n",
       "660675          False      False                 False               False   \n",
       "660676          False      False                 False               False   \n",
       "660677          False      False                 False               False   \n",
       "660678          False      False                 False               False   \n",
       "\n",
       "        Road_Surface_Conditions  Road_Type  Urban_or_Rural_Area  \\\n",
       "0                         False      False                False   \n",
       "1                         False      False                False   \n",
       "2                         False       True                False   \n",
       "3                         False      False                False   \n",
       "4                         False       True                False   \n",
       "...                         ...        ...                  ...   \n",
       "660674                    False      False                False   \n",
       "660675                    False      False                False   \n",
       "660676                    False      False                False   \n",
       "660677                    False      False                False   \n",
       "660678                    False      False                False   \n",
       "\n",
       "        Weather_Conditions  Vehicle_Type  \n",
       "0                    False         False  \n",
       "1                    False         False  \n",
       "2                     True         False  \n",
       "3                    False         False  \n",
       "4                     True         False  \n",
       "...                    ...           ...  \n",
       "660674               False         False  \n",
       "660675               False         False  \n",
       "660676               False         False  \n",
       "660677               False         False  \n",
       "660678               False         False  \n",
       "\n",
       "[660679 rows x 14 columns]"
      ]
     },
     "execution_count": 19,
     "metadata": {},
     "output_type": "execute_result"
    }
   ],
   "source": [
    "acci.isnull()"
   ]
  },
  {
   "cell_type": "markdown",
   "id": "e602f259-50e9-41ef-b63d-f979cc584f9c",
   "metadata": {},
   "source": [
    "<h2>Fill Null Values with statistical values</h2>"
   ]
  },
  {
   "cell_type": "code",
   "execution_count": 20,
   "id": "c0feefeb-afa1-4778-8eb4-d709c9966d44",
   "metadata": {},
   "outputs": [],
   "source": [
    "acci['Accident_Severity'] = acci['Accident_Severity'].fillna(acci['Accident_Severity'].mode()[0])\n",
    "acci['Light_Conditions'] = acci['Light_Conditions'].fillna(acci['Light_Conditions'].mode()[0])\n",
    "acci['Road_Surface_Conditions'] = acci['Road_Surface_Conditions'].fillna(acci['Road_Surface_Conditions'].mode()[0])\n",
    "acci['Number_of_Casualties'] = acci['Number_of_Casualties'].fillna(acci['Number_of_Casualties'].median())\n",
    "acci['Number_of_Vehicles'] = acci['Number_of_Vehicles'].fillna(acci['Number_of_Vehicles'].median())\n",
    "acci['District Area'] = acci['District Area'].fillna(acci['District Area'].mode()[0])"
   ]
  },
  {
   "cell_type": "code",
   "execution_count": 22,
   "id": "f9dc4d85-c363-4da3-b533-082c89ef5b1f",
   "metadata": {},
   "outputs": [
    {
     "data": {
      "text/plain": [
       "<bound method DataFrame.sum of         Index  Accident_Severity  Accident Date  Latitude  Light_Conditions  \\\n",
       "0       False              False          False     False             False   \n",
       "1       False              False          False     False             False   \n",
       "2       False              False          False     False             False   \n",
       "3       False              False          False     False             False   \n",
       "4       False              False          False     False             False   \n",
       "...       ...                ...            ...       ...               ...   \n",
       "660674  False              False          False     False             False   \n",
       "660675  False              False          False     False             False   \n",
       "660676  False              False          False     False             False   \n",
       "660677  False              False          False     False             False   \n",
       "660678  False              False          False     False             False   \n",
       "\n",
       "        District Area  Longitude  Number_of_Casualties  Number_of_Vehicles  \\\n",
       "0               False      False                 False               False   \n",
       "1               False      False                 False               False   \n",
       "2               False      False                 False               False   \n",
       "3               False      False                 False               False   \n",
       "4               False      False                 False               False   \n",
       "...               ...        ...                   ...                 ...   \n",
       "660674          False      False                 False               False   \n",
       "660675          False      False                 False               False   \n",
       "660676          False      False                 False               False   \n",
       "660677          False      False                 False               False   \n",
       "660678          False      False                 False               False   \n",
       "\n",
       "        Road_Surface_Conditions  Road_Type  Urban_or_Rural_Area  \\\n",
       "0                         False      False                False   \n",
       "1                         False      False                False   \n",
       "2                         False       True                False   \n",
       "3                         False      False                False   \n",
       "4                         False       True                False   \n",
       "...                         ...        ...                  ...   \n",
       "660674                    False      False                False   \n",
       "660675                    False      False                False   \n",
       "660676                    False      False                False   \n",
       "660677                    False      False                False   \n",
       "660678                    False      False                False   \n",
       "\n",
       "        Weather_Conditions  Vehicle_Type  \n",
       "0                    False         False  \n",
       "1                    False         False  \n",
       "2                     True         False  \n",
       "3                    False         False  \n",
       "4                     True         False  \n",
       "...                    ...           ...  \n",
       "660674               False         False  \n",
       "660675               False         False  \n",
       "660676               False         False  \n",
       "660677               False         False  \n",
       "660678               False         False  \n",
       "\n",
       "[660679 rows x 14 columns]>"
      ]
     },
     "execution_count": 22,
     "metadata": {},
     "output_type": "execute_result"
    }
   ],
   "source": [
    "acci.isnull().sum"
   ]
  },
  {
   "cell_type": "markdown",
   "id": "0c6660d5-dd9d-47d3-8156-4dec580d5513",
   "metadata": {},
   "source": [
    "<h2>Extracting date information using pandas date time </h2>"
   ]
  },
  {
   "cell_type": "code",
   "execution_count": 25,
   "id": "4a2199be-a94c-4c54-8b2f-69c9d9bfdc96",
   "metadata": {},
   "outputs": [
    {
     "ename": "AttributeError",
     "evalue": "Can only use .dt accessor with datetimelike values",
     "output_type": "error",
     "traceback": [
      "\u001b[1;31m---------------------------------------------------------------------------\u001b[0m",
      "\u001b[1;31mAttributeError\u001b[0m                            Traceback (most recent call last)",
      "Cell \u001b[1;32mIn[25], line 1\u001b[0m\n\u001b[1;32m----> 1\u001b[0m acci[\u001b[38;5;124m'\u001b[39m\u001b[38;5;124mYear\u001b[39m\u001b[38;5;124m'\u001b[39m] \u001b[38;5;241m=\u001b[39m \u001b[43macci\u001b[49m\u001b[43m[\u001b[49m\u001b[38;5;124;43m'\u001b[39;49m\u001b[38;5;124;43mAccident Date\u001b[39;49m\u001b[38;5;124;43m'\u001b[39;49m\u001b[43m]\u001b[49m\u001b[38;5;241;43m.\u001b[39;49m\u001b[43mdt\u001b[49m\u001b[38;5;241m.\u001b[39myear\n\u001b[0;32m      2\u001b[0m acci[\u001b[38;5;124m'\u001b[39m\u001b[38;5;124mMonth\u001b[39m\u001b[38;5;124m'\u001b[39m] \u001b[38;5;241m=\u001b[39m acci[\u001b[38;5;124m'\u001b[39m\u001b[38;5;124mAccident Date\u001b[39m\u001b[38;5;124m'\u001b[39m]\u001b[38;5;241m.\u001b[39mdt\u001b[38;5;241m.\u001b[39mmonth\n\u001b[0;32m      3\u001b[0m acci[\u001b[38;5;124m'\u001b[39m\u001b[38;5;124mDay\u001b[39m\u001b[38;5;124m'\u001b[39m] \u001b[38;5;241m=\u001b[39m acci[\u001b[38;5;124m'\u001b[39m\u001b[38;5;124mAccident Date\u001b[39m\u001b[38;5;124m'\u001b[39m]\u001b[38;5;241m.\u001b[39mdt\u001b[38;5;241m.\u001b[39mday\n",
      "File \u001b[1;32m~\\AppData\\Local\\Packages\\PythonSoftwareFoundation.Python.3.12_qbz5n2kfra8p0\\LocalCache\\local-packages\\Python312\\site-packages\\pandas\\core\\generic.py:6299\u001b[0m, in \u001b[0;36mNDFrame.__getattr__\u001b[1;34m(self, name)\u001b[0m\n\u001b[0;32m   6292\u001b[0m \u001b[38;5;28;01mif\u001b[39;00m (\n\u001b[0;32m   6293\u001b[0m     name \u001b[38;5;129;01mnot\u001b[39;00m \u001b[38;5;129;01min\u001b[39;00m \u001b[38;5;28mself\u001b[39m\u001b[38;5;241m.\u001b[39m_internal_names_set\n\u001b[0;32m   6294\u001b[0m     \u001b[38;5;129;01mand\u001b[39;00m name \u001b[38;5;129;01mnot\u001b[39;00m \u001b[38;5;129;01min\u001b[39;00m \u001b[38;5;28mself\u001b[39m\u001b[38;5;241m.\u001b[39m_metadata\n\u001b[0;32m   6295\u001b[0m     \u001b[38;5;129;01mand\u001b[39;00m name \u001b[38;5;129;01mnot\u001b[39;00m \u001b[38;5;129;01min\u001b[39;00m \u001b[38;5;28mself\u001b[39m\u001b[38;5;241m.\u001b[39m_accessors\n\u001b[0;32m   6296\u001b[0m     \u001b[38;5;129;01mand\u001b[39;00m \u001b[38;5;28mself\u001b[39m\u001b[38;5;241m.\u001b[39m_info_axis\u001b[38;5;241m.\u001b[39m_can_hold_identifiers_and_holds_name(name)\n\u001b[0;32m   6297\u001b[0m ):\n\u001b[0;32m   6298\u001b[0m     \u001b[38;5;28;01mreturn\u001b[39;00m \u001b[38;5;28mself\u001b[39m[name]\n\u001b[1;32m-> 6299\u001b[0m \u001b[38;5;28;01mreturn\u001b[39;00m \u001b[38;5;28;43mobject\u001b[39;49m\u001b[38;5;241;43m.\u001b[39;49m\u001b[38;5;21;43m__getattribute__\u001b[39;49m\u001b[43m(\u001b[49m\u001b[38;5;28;43mself\u001b[39;49m\u001b[43m,\u001b[49m\u001b[43m \u001b[49m\u001b[43mname\u001b[49m\u001b[43m)\u001b[49m\n",
      "File \u001b[1;32m~\\AppData\\Local\\Packages\\PythonSoftwareFoundation.Python.3.12_qbz5n2kfra8p0\\LocalCache\\local-packages\\Python312\\site-packages\\pandas\\core\\accessor.py:224\u001b[0m, in \u001b[0;36mCachedAccessor.__get__\u001b[1;34m(self, obj, cls)\u001b[0m\n\u001b[0;32m    221\u001b[0m \u001b[38;5;28;01mif\u001b[39;00m obj \u001b[38;5;129;01mis\u001b[39;00m \u001b[38;5;28;01mNone\u001b[39;00m:\n\u001b[0;32m    222\u001b[0m     \u001b[38;5;66;03m# we're accessing the attribute of the class, i.e., Dataset.geo\u001b[39;00m\n\u001b[0;32m    223\u001b[0m     \u001b[38;5;28;01mreturn\u001b[39;00m \u001b[38;5;28mself\u001b[39m\u001b[38;5;241m.\u001b[39m_accessor\n\u001b[1;32m--> 224\u001b[0m accessor_obj \u001b[38;5;241m=\u001b[39m \u001b[38;5;28;43mself\u001b[39;49m\u001b[38;5;241;43m.\u001b[39;49m\u001b[43m_accessor\u001b[49m\u001b[43m(\u001b[49m\u001b[43mobj\u001b[49m\u001b[43m)\u001b[49m\n\u001b[0;32m    225\u001b[0m \u001b[38;5;66;03m# Replace the property with the accessor object. Inspired by:\u001b[39;00m\n\u001b[0;32m    226\u001b[0m \u001b[38;5;66;03m# https://www.pydanny.com/cached-property.html\u001b[39;00m\n\u001b[0;32m    227\u001b[0m \u001b[38;5;66;03m# We need to use object.__setattr__ because we overwrite __setattr__ on\u001b[39;00m\n\u001b[0;32m    228\u001b[0m \u001b[38;5;66;03m# NDFrame\u001b[39;00m\n\u001b[0;32m    229\u001b[0m \u001b[38;5;28mobject\u001b[39m\u001b[38;5;241m.\u001b[39m\u001b[38;5;21m__setattr__\u001b[39m(obj, \u001b[38;5;28mself\u001b[39m\u001b[38;5;241m.\u001b[39m_name, accessor_obj)\n",
      "File \u001b[1;32m~\\AppData\\Local\\Packages\\PythonSoftwareFoundation.Python.3.12_qbz5n2kfra8p0\\LocalCache\\local-packages\\Python312\\site-packages\\pandas\\core\\indexes\\accessors.py:643\u001b[0m, in \u001b[0;36mCombinedDatetimelikeProperties.__new__\u001b[1;34m(cls, data)\u001b[0m\n\u001b[0;32m    640\u001b[0m \u001b[38;5;28;01melif\u001b[39;00m \u001b[38;5;28misinstance\u001b[39m(data\u001b[38;5;241m.\u001b[39mdtype, PeriodDtype):\n\u001b[0;32m    641\u001b[0m     \u001b[38;5;28;01mreturn\u001b[39;00m PeriodProperties(data, orig)\n\u001b[1;32m--> 643\u001b[0m \u001b[38;5;28;01mraise\u001b[39;00m \u001b[38;5;167;01mAttributeError\u001b[39;00m(\u001b[38;5;124m\"\u001b[39m\u001b[38;5;124mCan only use .dt accessor with datetimelike values\u001b[39m\u001b[38;5;124m\"\u001b[39m)\n",
      "\u001b[1;31mAttributeError\u001b[0m: Can only use .dt accessor with datetimelike values"
     ]
    }
   ],
   "source": [
    "acci['Year'] = acci['Accident Date'].dt.year\n",
    "acci['Month'] = acci['Accident Date'].dt.month\n",
    "acci['Day'] = acci['Accident Date'].dt.day\n",
    "acci['Hour'] = acci['Accident Date'].dt.hour\n",
    "\n"
   ]
  },
  {
   "cell_type": "markdown",
   "id": "34c36998-7e27-4718-b6a3-15348f95dc0d",
   "metadata": {},
   "source": [
    "<h2>QUESTION 1. Which vehicle type has the most serious accidents </h2>"
   ]
  },
  {
   "cell_type": "code",
   "execution_count": null,
   "id": "ae896af1-4e06-4c5f-8ff6-7d82e90f1ff1",
   "metadata": {},
   "outputs": [],
   "source": [
    "serious_vehicles = acci[acci[\"Accident_Severity\"]==\"Serious\"][\"Vehicle_Type\"].value_counts()\n",
    "serious_vehicles"
   ]
  },
  {
   "cell_type": "markdown",
   "id": "80256b5e-2885-4f76-a3eb-91fdf39cd17f",
   "metadata": {},
   "source": [
    "<h2>1. INSIGHTS</h2>\n",
    "<p>It shows that cars has the most number of serious accidents</p>"
   ]
  },
  {
   "cell_type": "markdown",
   "id": "298f2a7a-2a08-4f69-bb19-b3c2d15feb50",
   "metadata": {},
   "source": [
    "<h2>Question 2. Which light condition records the highest average casualties? </h2>"
   ]
  },
  {
   "cell_type": "code",
   "execution_count": null,
   "id": "4910a355-fa9b-444c-be39-3bfb42605948",
   "metadata": {},
   "outputs": [],
   "source": [
    "avg_casualties_light = acci.groupby(\"Light_Conditions\")[\"Number_of_Casualties\"].mean()\n",
    "avg_casualties_light"
   ]
  },
  {
   "cell_type": "markdown",
   "id": "f5d4fc59-ea88-438c-897d-fa6cce35ff74",
   "metadata": {},
   "source": [
    "<h2>2. INSIGHTS</h2>\n",
    "<p>Night with poor lighting tends to have the highest casualties per accident.</p>"
   ]
  },
  {
   "cell_type": "markdown",
   "id": "4559d003-2da7-4436-82ef-31ea3e064df7",
   "metadata": {},
   "source": [
    "<h2>Question 3. Which weather condition has the highest average casualties in rural areas?</h2>"
   ]
  },
  {
   "cell_type": "code",
   "execution_count": null,
   "id": "5f407ceb-f3e6-4232-80a9-915eb4d97147",
   "metadata": {},
   "outputs": [],
   "source": [
    "\n",
    "rural_weather_casualties = acci[acci[\"Urban_or_Rural_Area\"]==\"Rural\"].groupby(\"Weather_Conditions\")[\"Number_of_Casualties\"].mean()\n",
    "rural_weather_casualties\n"
   ]
  },
  {
   "cell_type": "markdown",
   "id": "507b5077-7319-4217-91ec-5ff0483282dd",
   "metadata": {},
   "source": [
    "<h2>3. INSIGHTS</h2>\n",
    "<p>Rural crashes in rainy or foggy conditions often result in higher casualties compared to clear weather.</p>"
   ]
  },
  {
   "cell_type": "markdown",
   "id": "a799c2f5-1883-4024-b2ea-890684b5f452",
   "metadata": {},
   "source": [
    "<h2>Question 4. What is the average vehicles per accident by severity? </h2>"
   ]
  },
  {
   "cell_type": "code",
   "execution_count": null,
   "id": "4540bb7f-8fa3-4291-bac8-e2d4c5886729",
   "metadata": {},
   "outputs": [],
   "source": [
    "avg_vehicles_severity = acci.groupby(\"Accident_Severity\")[\"Number_of_Vehicles\"].mean()\n",
    "avg_vehicles_severity"
   ]
  },
  {
   "cell_type": "markdown",
   "id": "062c9377-941b-42d5-9651-ec245603d1c4",
   "metadata": {},
   "source": [
    "<h2>4. INSIGHTS</h2>\n",
    "<p>Fatal and serious accidents usually involve more vehicles than slight accidents.</p>"
   ]
  },
  {
   "cell_type": "markdown",
   "id": "cf4b4c9a-bbd3-4915-8206-e699c16b31c2",
   "metadata": {},
   "source": [
    "<h2>Question 5. What is total number of accidents recorded</h2>"
   ]
  },
  {
   "cell_type": "code",
   "execution_count": null,
   "id": "f8d9b15d-b90e-45e1-80f4-6c00fdc55093",
   "metadata": {},
   "outputs": [],
   "source": [
    "total_acci = acci.shape[0]\n",
    "total_acci"
   ]
  },
  {
   "cell_type": "markdown",
   "id": "7745747a-bb0f-4559-a126-d59291b7aca3",
   "metadata": {},
   "source": [
    "<h2>5. INSIGHTS</h2>\n",
    "<p>The total number of accidents is 660679</p>"
   ]
  },
  {
   "cell_type": "markdown",
   "id": "da80c08a-186c-4c7a-9822-e1773d4013b9",
   "metadata": {},
   "source": [
    "<h2>Question 6. Which road surface has the highest average vehicles per accident?</h2>"
   ]
  },
  {
   "cell_type": "code",
   "execution_count": null,
   "id": "ca513a74-065e-4e8d-8516-6cbbf90abf4f",
   "metadata": {},
   "outputs": [],
   "source": [
    "avg_vehicles_surface = acci.groupby(\"Road_Surface_Conditions\")[\"Number_of_Vehicles\"].mean()\n",
    "avg_vehicles_surface"
   ]
  },
  {
   "cell_type": "markdown",
   "id": "5b51f8d1-ebf7-4e75-ac42-1c73a211385d",
   "metadata": {},
   "source": [
    "<h2>6. INSIGHTS</h2>\n",
    "<p>Wet and icy surfaces often involve more multi-vehicle accidents compared to dry roads.</p>"
   ]
  },
  {
   "cell_type": "markdown",
   "id": "2ed86d01-9419-47eb-8a2f-077523906f17",
   "metadata": {},
   "source": [
    "<h2>Question 7. Which of the urban or rural has the most number of accidents?</h2>"
   ]
  },
  {
   "cell_type": "code",
   "execution_count": null,
   "id": "6f7f672f-65cf-425e-8c32-1b561c4e9bb6",
   "metadata": {},
   "outputs": [],
   "source": [
    "urban_rural_counts = acci[\"Urban_or_Rural_Area\"].value_counts()\n",
    "urban_rural_counts"
   ]
  },
  {
   "cell_type": "markdown",
   "id": "07f459f6-8aa2-442d-8bb0-256bb3225431",
   "metadata": {},
   "source": [
    "<h2>7. INSIGHTS</h2>\n",
    "<p>Most accidents occur in urban areas, but rural crashes often involve higher casualties.</p>"
   ]
  },
  {
   "cell_type": "markdown",
   "id": "ef10ae50-67ff-4583-8923-544f5f553f39",
   "metadata": {},
   "source": [
    "<h2>Question 8. Which of the weather conditions has the number of accidetnts</h2>"
   ]
  },
  {
   "cell_type": "code",
   "execution_count": null,
   "id": "ce85a07b-8a2f-4bce-8cb0-b148dff4d4fc",
   "metadata": {},
   "outputs": [],
   "source": [
    "weather_counts = acci[\"Weather_Conditions\"].value_counts()\n",
    "weather_counts"
   ]
  },
  {
   "cell_type": "markdown",
   "id": "8caf4f62-8436-48b9-b54c-23f9da6ef3e6",
   "metadata": {},
   "source": [
    "<h2>8. INSIGHTS</h2>\n",
    "<p>Most accidents happen in clear weather, but rain and fog increase accident severity.</p>"
   ]
  },
  {
   "cell_type": "markdown",
   "id": "9f3fc3b8-1d73-4033-9146-c841dd44dbd5",
   "metadata": {},
   "source": [
    "<h2>Question 9. Which light condition records the most accidents?</h2>"
   ]
  },
  {
   "cell_type": "code",
   "execution_count": null,
   "id": "d9d82a26-2d22-4826-935d-17103cc23e6d",
   "metadata": {},
   "outputs": [],
   "source": [
    "light_counts = acci[\"Light_Conditions\"].value_counts()\n",
    "light_counts"
   ]
  },
  {
   "cell_type": "markdown",
   "id": "84bcbf6f-0a58-4517-b136-a0aedb385907",
   "metadata": {},
   "source": [
    "<h2>9. INSIGHTS</h2>\n",
    "<p>Most accidents happen in daylight, but nighttime accidents are more severe.</p>"
   ]
  },
  {
   "cell_type": "markdown",
   "id": "cf068f59-eadc-4a83-863d-8ce3491c0bbc",
   "metadata": {},
   "source": [
    "<h2>Question 10. What vehicles types involved has the most number of accidents? </h2>"
   ]
  },
  {
   "cell_type": "code",
   "execution_count": null,
   "id": "282f4bd6-f453-40a4-a222-034af171c501",
   "metadata": {},
   "outputs": [],
   "source": [
    "vehicle_counts = acci[\"Vehicle_Type\"].value_counts()\n",
    "vehicle_counts"
   ]
  },
  {
   "cell_type": "markdown",
   "id": "68a0e8af-5691-4f13-8a30-0c3f2d89c77c",
   "metadata": {},
   "source": [
    "<h2>10. INSIGHTS</h2>\n",
    "<p>Cars are the most frequent vehicle type in accidents.</p>"
   ]
  },
  {
   "cell_type": "markdown",
   "id": "134cf314-6efc-4e83-9481-17955b4e9132",
   "metadata": {},
   "source": [
    "<h2>QUESTION 11: What is the relationship between accident severity and light conditions?</h2>"
   ]
  },
  {
   "cell_type": "code",
   "execution_count": null,
   "id": "96f30104-0ed5-41ca-90d7-651354f4ab41",
   "metadata": {},
   "outputs": [],
   "source": [
    "severity_light =acci.groupby([\"Accident_Severity\",\"Light_Conditions\"]).size()\n",
    "severity_light"
   ]
  },
  {
   "cell_type": "markdown",
   "id": "00ab8c0a-78e3-481a-8630-bc5a3836c0a3",
   "metadata": {},
   "source": [
    "<h2> 11. INSIGHTS</h2>\n",
    "<p>Fatal and serious accidents occur more often in darkness than slight accidents, which dominate during daylight.</p>"
   ]
  },
  {
   "cell_type": "markdown",
   "id": "569b0adb-8e06-4c48-8bd0-318a6cc5b683",
   "metadata": {},
   "source": [
    "<h2> QUESTION 12. What is the relationship between accident severity and road surface conditions?</h2>"
   ]
  },
  {
   "cell_type": "code",
   "execution_count": null,
   "id": "09bcfb84-8fb1-4070-be30-5e907e7aaca5",
   "metadata": {},
   "outputs": [],
   "source": [
    "severity_surface = acci.groupby([\"Accident_Severity\",\"Road_Surface_Conditions\"]).size()\n",
    "severity_surface"
   ]
  },
  {
   "cell_type": "markdown",
   "id": "3b7a4e4b-0a99-4f0f-bb1c-9ba7db0f2611",
   "metadata": {},
   "source": [
    "<h2>12. INSIGHTS </h2>\n",
    "<p>Slight accidents dominate dry roads, but fatal accidents are more frequent (proportionally) on wet, icy, or snowy surfaces.</p>"
   ]
  },
  {
   "cell_type": "markdown",
   "id": "f266cd39-969d-4cdd-ab10-8e57a83a696e",
   "metadata": {},
   "source": [
    "<h2>QUESTION 13. What is the Correlation between number of vehicles and casualties?</h2>"
   ]
  },
  {
   "cell_type": "code",
   "execution_count": null,
   "id": "4a72fe7f-9a77-486c-8a99-67a0b4b55afe",
   "metadata": {},
   "outputs": [],
   "source": [
    "corr = acci[[\"Number_of_Vehicles\", \"Number_of_Casualties\"]].corr()\n",
    "corr"
   ]
  },
  {
   "cell_type": "markdown",
   "id": "ffcf4584-b18a-4963-a823-11626e78ee2f",
   "metadata": {},
   "source": [
    "<h2>13. INSIGHTS</h2>\n",
    "<p>A positive correlation means more vehicles usually result in more casualties.</p>"
   ]
  },
  {
   "cell_type": "markdown",
   "id": "39c42481-e4d5-42ea-b383-2bd99819ca54",
   "metadata": {},
   "source": [
    "<h2>QUESTION 14. Which accident severity has the highest average number of vehicles involved?</h2>"
   ]
  },
  {
   "cell_type": "code",
   "execution_count": null,
   "id": "16afac26-62f0-4812-9012-a6592f758235",
   "metadata": {},
   "outputs": [],
   "source": [
    "avg_vehicles_by_severity = acci.groupby(\"Accident_Severity\")[\"Number_of_Vehicles\"].mean()\n",
    "avg_vehicles_by_severity"
   ]
  },
  {
   "cell_type": "markdown",
   "id": "ed4d2aa0-d6e4-40e0-8193-0af0ff360904",
   "metadata": {},
   "source": [
    "<h2>14. INSIGHT</h2>\n",
    "<p>Serious accidents tend to involve more vehicles compared to slight ones</p>\n"
   ]
  },
  {
   "cell_type": "markdown",
   "id": "ec0c2f90-291d-44f4-8d17-3a48baca251f",
   "metadata": {},
   "source": [
    "<h2>QUESTION 15. WHICH OF THE ROAD TYPES HAS THE MOSE COUNTS OF ACCIDENTS</h2>"
   ]
  },
  {
   "cell_type": "code",
   "execution_count": null,
   "id": "3d904e1e-281d-40d6-a432-553f2d2f4a6f",
   "metadata": {},
   "outputs": [],
   "source": [
    "road_type_counts = acci[\"Road_Type\"].value_counts()\n",
    "road_type_counts"
   ]
  },
  {
   "cell_type": "markdown",
   "id": "456617db-74cb-45ec-87d4-5e66b468a3e5",
   "metadata": {},
   "source": [
    "<h2>15. INSIGHTS</h2>\n",
    "<p>Most accidents occur on single carriageways, followed by dual carriageways.</p>"
   ]
  },
  {
   "cell_type": "markdown",
   "id": "76733159-c670-4ec4-b156-891c1c0bb324",
   "metadata": {},
   "source": [
    "<h2>QUESTION 16. Which weather condition has the highest proportion of fatal accidents?</h2>"
   ]
  },
  {
   "cell_type": "code",
   "execution_count": null,
   "id": "9d40d8af-321c-4b37-b9a3-f3b2c8a9ef2c",
   "metadata": {},
   "outputs": [],
   "source": [
    "fatal_rate_weather = acci[acci[\"Accident_Severity\"]==\"Fatal\"].groupby(\"Weather_Conditions\").size() / acci.groupby(\"Weather_Conditions\").size()\n",
    "fatal_rate_weather"
   ]
  },
  {
   "cell_type": "markdown",
   "id": "255773da-773a-458b-99c3-2447c48f6465",
   "metadata": {},
   "source": [
    "<h2>16. INSIGHTS</h2>\n",
    "<p>\n",
    "Although most accidents happen in clear weather, the proportion of fatal crashes is higher in fog/rain conditions.</p>"
   ]
  },
  {
   "cell_type": "markdown",
   "id": "af7e4a0e-70e8-4129-8ff8-9b74bb9583dc",
   "metadata": {},
   "source": [
    "<h2>QUESTION 17. What is the average number of casualties per accident severity by area type (urban/rural) </h2>"
   ]
  },
  {
   "cell_type": "code",
   "execution_count": null,
   "id": "34ef2930-41cf-479a-a8d7-6bce8c9780a7",
   "metadata": {},
   "outputs": [],
   "source": [
    "avg_casualties_severity_area = acci.groupby([\"Urban_or_Rural_Area\",\"Accident_Severity\"])[\"Number_of_Casualties\"].mean()\n",
    "avg_casualties_severity_area"
   ]
  },
  {
   "cell_type": "markdown",
   "id": "7c5fa3ac-fb7d-4f7c-95cf-f4d13f458e2e",
   "metadata": {},
   "source": [
    "<h2>17. INSIGHTS</h2>\n",
    "<p> it shows that fatal rural accidents tend to involve more casualties compared to fatal urban ones.</p>"
   ]
  },
  {
   "cell_type": "markdown",
   "id": "978e0376-4c18-459c-b1b5-92512d851ccb",
   "metadata": {},
   "source": [
    "<h2> QUESTION 18. Which District with the most recorded accidents\n",
    "</h2>"
   ]
  },
  {
   "cell_type": "code",
   "execution_count": null,
   "id": "7214554b-2181-4b49-af1a-2def8e4110ad",
   "metadata": {},
   "outputs": [],
   "source": [
    "most_accidents_district = acci[\"District Area\"].value_counts()\n",
    "most_accidents_district"
   ]
  },
  {
   "cell_type": "markdown",
   "id": "c9e4bb17-8520-4690-acd6-f38c0a83d762",
   "metadata": {},
   "source": [
    "<h2>18. INSIGHTS </h2>\n",
    "<p>It shows that the Birmingham the most record of accidents</p>"
   ]
  },
  {
   "cell_type": "markdown",
   "id": "c30574d4-7dfe-43fe-8743-91d359c99a64",
   "metadata": {},
   "source": [
    "<h2>QUESTION 19. What is the most common road surface condition in fatal accidents</h2>"
   ]
  },
  {
   "cell_type": "code",
   "execution_count": null,
   "id": "9e352ccc-c5be-4bfc-afcf-2dddc46498fa",
   "metadata": {},
   "outputs": [],
   "source": [
    "fatal_surface = acci[acci[\"Accident_Severity\"]==\"Fatal\"][\"Road_Surface_Conditions\"].value_counts()\n",
    "fatal_surface"
   ]
  },
  {
   "cell_type": "markdown",
   "id": "8243f598-ec78-4189-9d3b-c3468baa3750",
   "metadata": {},
   "source": [
    "<h2>19. INSIGHTS </h2>\n",
    "<p>It shows that the most common road surface to have a fatal accidents is DRY surface.</p>"
   ]
  },
  {
   "cell_type": "markdown",
   "id": "4558390f-ab90-43ec-9eda-2a4817164d8f",
   "metadata": {},
   "source": [
    "<h2>QUESTION 20. Which district has the lowest number of recorded accidents?</h2>"
   ]
  },
  {
   "cell_type": "code",
   "execution_count": null,
   "id": "786fec36-abbe-421e-aa1c-f91dfb9ffa88",
   "metadata": {},
   "outputs": [],
   "source": [
    "lowest_district = acci[\"District Area\"].value_counts()\n",
    "lowest_district"
   ]
  },
  {
   "cell_type": "markdown",
   "id": "34cb60c9-f271-45bf-9cb4-8527439d85b3",
   "metadata": {},
   "source": [
    "<h2>20. INSIGHTS</h2>\n",
    "<p>It shows that the Clackmannanshire has the lowest record of accidents </p>"
   ]
  }
 ],
 "metadata": {
  "kernelspec": {
   "display_name": "Python 3 (ipykernel)",
   "language": "python",
   "name": "python3"
  },
  "language_info": {
   "codemirror_mode": {
    "name": "ipython",
    "version": 3
   },
   "file_extension": ".py",
   "mimetype": "text/x-python",
   "name": "python",
   "nbconvert_exporter": "python",
   "pygments_lexer": "ipython3",
   "version": "3.12.10"
  }
 },
 "nbformat": 4,
 "nbformat_minor": 5
}
